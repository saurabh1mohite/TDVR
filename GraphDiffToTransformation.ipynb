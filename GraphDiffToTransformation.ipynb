{
  "nbformat": 4,
  "nbformat_minor": 0,
  "metadata": {
    "colab": {
      "name": "GraphDiffToTransformation",
      "provenance": [],
      "collapsed_sections": [],
      "mount_file_id": "1y7MqTE_mKI74KRtiNhppSpAj3fychEUF",
      "authorship_tag": "ABX9TyOnzjzzmC4FSTDQprhkPDk4",
      "include_colab_link": true
    },
    "kernelspec": {
      "name": "python3",
      "display_name": "Python 3"
    },
    "language_info": {
      "name": "python"
    },
    "accelerator": "GPU"
  },
  "cells": [
    {
      "cell_type": "markdown",
      "metadata": {
        "id": "view-in-github",
        "colab_type": "text"
      },
      "source": [
        "<a href=\"https://colab.research.google.com/github/saurabh1mohite/TDVR/blob/main/GraphDiffToTransformation.ipynb\" target=\"_parent\"><img src=\"https://colab.research.google.com/assets/colab-badge.svg\" alt=\"Open In Colab\"/></a>"
      ]
    },
    {
      "cell_type": "code",
      "metadata": {
        "id": "4gZQpKJMw3UX"
      },
      "source": [
        "from __future__ import unicode_literals, print_function, division\n",
        "from io import open\n",
        "import unicodedata\n",
        "import string\n",
        "import re\n",
        "import random\n",
        "\n",
        "import torch\n",
        "import torch.nn as nn\n",
        "from torch import optim\n",
        "import torch.nn.functional as F\n",
        "\n",
        "device = torch.device(\"cuda\" if torch.cuda.is_available() else \"cpu\")\n",
        "device"
      ],
      "execution_count": null,
      "outputs": []
    },
    {
      "cell_type": "code",
      "metadata": {
        "id": "A7FUfp-aw5iA"
      },
      "source": [
        "SOS_token = 0\n",
        "EOS_token = 1\n",
        "\n",
        "\n",
        "class Lang:\n",
        "    def __init__(self, name):\n",
        "        self.name = name\n",
        "        self.word2index = {}\n",
        "        self.word2count = {}\n",
        "        self.index2word = {0: \"SOS\", 1: \"EOS\"}\n",
        "        self.n_words = 2  # Count SOS and EOS\n",
        "\n",
        "    def addSentence(self, sentence):\n",
        "        for word in sentence.split(' '):\n",
        "            self.addWord(word)\n",
        "\n",
        "    def addWord(self, word):\n",
        "        if word not in self.word2index:\n",
        "            self.word2index[word] = self.n_words\n",
        "            self.word2count[word] = 1\n",
        "            self.index2word[self.n_words] = word\n",
        "            self.n_words += 1\n",
        "        else:\n",
        "            self.word2count[word] += 1"
      ],
      "execution_count": null,
      "outputs": []
    },
    {
      "cell_type": "code",
      "metadata": {
        "id": "4Jm0GxuxxGW_"
      },
      "source": [
        "# # Turn a Unicode string to plain ASCII, thanks to\n",
        "# # https://stackoverflow.com/a/518232/2809427\n",
        "# def unicodeToAscii(s):\n",
        "#     return ''.join(\n",
        "#         c for c in unicodedata.normalize('NFD', s)\n",
        "#         if unicodedata.category(c) != 'Mn'\n",
        "#     )\n",
        "\n",
        "# # Lowercase, trim, and remove non-letter characters"
      ],
      "execution_count": null,
      "outputs": []
    },
    {
      "cell_type": "code",
      "metadata": {
        "id": "Snq3OIeCxISc"
      },
      "source": [
        "def readLangs(lang1, lang2, lang3, reverse=False):\n",
        "    print(\"Reading lines...\")\n",
        "\n",
        "    # Read the file and split into lines\n",
        "    lines = open('/content/drive/MyDrive/NLP/Trance/CSV/dataset.txt', encoding='utf-8').read().strip().split('\\n')\n",
        "\n",
        "    # Split every line into pairs and normalize\n",
        "    pairs = [[s for s in l.split(',')] for l in lines]\n",
        "\n",
        "    # Reverse pairs, make Lang instances\n",
        "    if reverse:\n",
        "        pairs = [list(reversed(p)) for p in pairs]\n",
        "        input_lang_1 = Lang(lang2)\n",
        "        input_lang_2 = Lang(lang1)\n",
        "        output_lang = Lang(lang3)\n",
        "    else:\n",
        "        input_lang_1 = Lang(lang1)\n",
        "        input_lang_2 = Lang(lang2)\n",
        "        output_lang = Lang(lang3)\n",
        "    return input_lang_1, input_lang_2, output_lang, pairs"
      ],
      "execution_count": null,
      "outputs": []
    },
    {
      "cell_type": "code",
      "metadata": {
        "id": "caQt35KAxc9L"
      },
      "source": [
        "def prepareData(lang1, lang2, lang3, reverse=False):\n",
        "    input_lang_1, input_lang_2, output_lang, pairs = readLangs(lang1, lang2, lang3, reverse)\n",
        "    print(lang1)\n",
        "    print(\"Read %s sentence pairs\" % len(pairs))\n",
        "    # pairs = filterPairs(pairs)\n",
        "    print(\"Trimmed to %s sentence pairs\" % len(pairs))\n",
        "    print(\"Counting words...\")\n",
        "    # ctr = 0\n",
        "    for pair in pairs:\n",
        "        # print('pair - ', pair)\n",
        "        # ctr += 1\n",
        "        # if ctr > 10:\n",
        "        #     break\n",
        "        input_lang_1.addSentence(pair[0])\n",
        "        input_lang_1.addSentence(pair[1])\n",
        "        # input_lang_1.addSentence(pair[2])\n",
        "        \n",
        "        input_lang_2.addSentence(pair[1])\n",
        "        # input_lang_2.addSentence(pair[2])\n",
        "        input_lang_2.addSentence(pair[0])\n",
        "\n",
        "        output_lang.addSentence(pair[2])\n",
        "        # output_lang.addSentence(pair[1])\n",
        "        # output_lang.addSentence(pair[0])\n",
        "        \n",
        "        # for word in pair[0].split(' '):\n",
        "        #     input_lang_1.addWord(word)\n",
        "        # for word in pair[1].split(' '):\n",
        "        #     input_lang_2.addWord(word)\n",
        "        # for word in pair[2].split(' '):\n",
        "        #     output_lang.addWord(word)\n",
        "\n",
        "    print(\"Counted words:\")\n",
        "    print(input_lang_1.name, input_lang_1.n_words)\n",
        "    print(input_lang_2.name, input_lang_2.n_words)\n",
        "    print(output_lang.name, output_lang.n_words)\n",
        "    return input_lang_1, input_lang_2, output_lang, pairs\n",
        "\n",
        "\n",
        "input_lang_1, input_lang_2, output_lang, pairs = prepareData('init', 'final', 'transformation', True)\n",
        "print(random.choice(pairs))"
      ],
      "execution_count": null,
      "outputs": []
    },
    {
      "cell_type": "code",
      "metadata": {
        "id": "l_hPMAnTx8xi"
      },
      "source": [
        "class EncoderRNNL1(nn.Module):\n",
        "    def __init__(self, input_size, hidden_size):\n",
        "        super(EncoderRNNL1, self).__init__()\n",
        "        self.hidden_size = hidden_size\n",
        "\n",
        "        self.embedding = nn.Embedding(input_size, hidden_size)\n",
        "        self.gru = nn.GRU(hidden_size, hidden_size)\n",
        "\n",
        "    def forward(self, input, hidden):\n",
        "        embedded = self.embedding(input).view(1, 1, -1)\n",
        "        output = embedded\n",
        "        output, hidden = self.gru(output, hidden)\n",
        "        return output, hidden\n",
        "\n",
        "    def initHidden(self):\n",
        "        return torch.zeros(1, 1, self.hidden_size, device=device)"
      ],
      "execution_count": null,
      "outputs": []
    },
    {
      "cell_type": "code",
      "metadata": {
        "id": "Z8X1fB-e0o8R"
      },
      "source": [
        "class EncoderRNNL2(nn.Module):\n",
        "    def __init__(self, input_size, hidden_size):\n",
        "        super(EncoderRNNL2, self).__init__()\n",
        "        self.hidden_size = hidden_size\n",
        "\n",
        "        self.embedding = nn.Embedding(input_size, hidden_size)\n",
        "        self.gru = nn.GRU(hidden_size, hidden_size)\n",
        "\n",
        "    def forward(self, input, hidden):\n",
        "        embedded = self.embedding(input).view(1, 1, -1)\n",
        "        output = embedded\n",
        "        output, hidden = self.gru(output, hidden)\n",
        "        return output, hidden\n",
        "\n",
        "    def initHidden(self):\n",
        "        return torch.zeros(1, 1, self.hidden_size, device=device)"
      ],
      "execution_count": null,
      "outputs": []
    },
    {
      "cell_type": "code",
      "metadata": {
        "id": "1Bjl97o-0snI"
      },
      "source": [
        "class DecoderRNN(nn.Module):\n",
        "    def __init__(self, hidden_size, output_size):\n",
        "        super(DecoderRNN, self).__init__()\n",
        "        self.hidden_size = hidden_size\n",
        "\n",
        "        self.embedding = nn.Embedding(output_size, hidden_size)\n",
        "        self.gru = nn.GRU(hidden_size, hidden_size)\n",
        "        self.out = nn.Linear(hidden_size, output_size)\n",
        "        self.softmax = nn.LogSoftmax(dim=1)\n",
        "\n",
        "    def forward(self, input, hidden):\n",
        "        output = self.embedding(input).view(1, 1, -1)\n",
        "        output = F.relu(output)\n",
        "        output, hidden = self.gru(output, hidden)\n",
        "        output = self.softmax(self.out(output[0]))\n",
        "        return output, hidden\n",
        "\n",
        "    def initHidden(self):\n",
        "        return torch.zeros(1, 1, self.hidden_size, device=device)"
      ],
      "execution_count": null,
      "outputs": []
    },
    {
      "cell_type": "code",
      "metadata": {
        "id": "MxZeZCgL0ujb"
      },
      "source": [
        "MAX_LENGTH = 128\n",
        "class AttnDecoderRNN(nn.Module):\n",
        "    def __init__(self, hidden_size, output_size, dropout_p=0.1, max_length=MAX_LENGTH):\n",
        "        super(AttnDecoderRNN, self).__init__()\n",
        "        self.hidden_size = hidden_size\n",
        "        self.output_size = output_size\n",
        "        self.dropout_p = dropout_p\n",
        "        self.max_length = max_length\n",
        "\n",
        "        self.embedding = nn.Embedding(self.output_size, self.hidden_size)\n",
        "        self.attn = nn.Linear(self.hidden_size * 2, self.max_length)\n",
        "        self.attn_combine = nn.Linear(self.hidden_size * 2, self.hidden_size)\n",
        "        self.dropout = nn.Dropout(self.dropout_p)\n",
        "        self.gru = nn.GRU(self.hidden_size, self.hidden_size)\n",
        "        self.out = nn.Linear(self.hidden_size, self.output_size)\n",
        "\n",
        "    def forward(self, input, hidden, encoder_outputs):\n",
        "        embedded = self.embedding(input).view(1, 1, -1)\n",
        "        embedded = self.dropout(embedded)\n",
        "\n",
        "        attn_weights = F.softmax(\n",
        "            self.attn(torch.cat((embedded[0], hidden[0]), 1)), dim=1)\n",
        "        attn_applied = torch.bmm(attn_weights.unsqueeze(0),\n",
        "                                 encoder_outputs.unsqueeze(0))\n",
        "\n",
        "        output = torch.cat((embedded[0], attn_applied[0]), 1)\n",
        "        output = self.attn_combine(output).unsqueeze(0)\n",
        "\n",
        "        output = F.relu(output)\n",
        "        output, hidden = self.gru(output, hidden)\n",
        "\n",
        "        output = F.log_softmax(self.out(output[0]), dim=1)\n",
        "        return output, hidden, attn_weights\n",
        "\n",
        "    def initHidden(self):\n",
        "        return torch.zeros(1, 1, self.hidden_size, device=device)"
      ],
      "execution_count": null,
      "outputs": []
    },
    {
      "cell_type": "code",
      "metadata": {
        "id": "PUodhjtR0yJD"
      },
      "source": [
        "def indexesFromSentence(lang, sentence):\n",
        "    return [lang.word2index[word] for word in sentence.split(' ')]\n",
        "\n",
        "\n",
        "def tensorFromSentence(lang, sentence):\n",
        "    indexes = indexesFromSentence(lang, sentence)\n",
        "    indexes.append(EOS_token)\n",
        "    return torch.tensor(indexes, dtype=torch.long, device=device).view(-1, 1)\n",
        "\n",
        "\n",
        "def tensorsFromPair(pair):\n",
        "    input_tensor_1 = tensorFromSentence(input_lang_1, pair[0])\n",
        "    input_tensor_2 = tensorFromSentence(input_lang_2, pair[1])\n",
        "    target_tensor = tensorFromSentence(output_lang, pair[2])\n",
        "    return (input_tensor_1, input_tensor_2, target_tensor)"
      ],
      "execution_count": null,
      "outputs": []
    },
    {
      "cell_type": "code",
      "metadata": {
        "id": "Pw0veHNx025J"
      },
      "source": [
        "teacher_forcing_ratio = 0.5\n",
        "\n",
        "\n",
        "def train(input_tensor_1, input_tensor_2, target_tensor, encoder_1, encoder_2, decoder, encoder_optimizer_1, encoder_optimizer_2, decoder_optimizer, criterion, max_length=MAX_LENGTH):\n",
        "    encoder_hidden_1 = encoder_1.initHidden()\n",
        "    encoder_hidden_2 = encoder_2.initHidden()\n",
        "\n",
        "    encoder_optimizer_1.zero_grad()\n",
        "    encoder_optimizer_2 .zero_grad()\n",
        "    decoder_optimizer.zero_grad()\n",
        "\n",
        "    input_length_1 = input_tensor_1.size(0)\n",
        "    input_length_2 = input_tensor_2.size(0)\n",
        "    target_length = target_tensor.size(0)\n",
        "\n",
        "    encoder_outputs_1 = torch.zeros(max_length, encoder_1.hidden_size, device=device)\n",
        "    encoder_outputs_2 = torch.zeros(max_length, encoder_2.hidden_size, device=device)\n",
        "\n",
        "    loss = 0\n",
        "    for ei in range(input_length_1):\n",
        "        encoder_output_1, encoder_hidden_1 = encoder_1(input_tensor_1[ei], encoder_hidden_1)\n",
        "        encoder_outputs_1[ei] = encoder_output_1[0, 0]\n",
        "    for ei in range(input_length_2):\n",
        "        encoder_output_2, encoder_hidden_2 = encoder_2(input_tensor_2[ei], encoder_hidden_2)\n",
        "        encoder_outputs_2[ei] = encoder_output_2[0, 0]\n",
        "    encoder_outputs = encoder_outputs_1 - encoder_outputs_2\n",
        "\n",
        "    decoder_input = torch.tensor([[SOS_token]], device=device)\n",
        "\n",
        "# marker\n",
        "    decoder_hidden = encoder_hidden_1 - encoder_hidden_2\n",
        "\n",
        "    use_teacher_forcing = True if random.random() < teacher_forcing_ratio else False\n",
        "\n",
        "    if use_teacher_forcing:\n",
        "        # Teacher forcing: Feed the target as the next input\n",
        "        for di in range(target_length):\n",
        "            decoder_output, decoder_hidden, decoder_attention = decoder(\n",
        "                decoder_input, decoder_hidden, encoder_outputs)\n",
        "            loss += criterion(decoder_output, target_tensor[di])\n",
        "            decoder_input = target_tensor[di]  # Teacher forcing\n",
        "\n",
        "    else:\n",
        "        # Without teacher forcing: use its own predictions as the next input\n",
        "        for di in range(target_length):\n",
        "            decoder_output, decoder_hidden, decoder_attention = decoder(\n",
        "                decoder_input, decoder_hidden, encoder_outputs)\n",
        "            topv, topi = decoder_output.topk(1)\n",
        "            decoder_input = topi.squeeze().detach()  # detach from history as input\n",
        "\n",
        "            loss += criterion(decoder_output, target_tensor[di])\n",
        "            if decoder_input.item() == EOS_token:\n",
        "                break\n",
        "\n",
        "    loss.backward()\n",
        "\n",
        "    encoder_optimizer_1.step()\n",
        "    encoder_optimizer_2.step()\n",
        "    decoder_optimizer.step()\n",
        "\n",
        "    return loss.item() / target_length"
      ],
      "execution_count": null,
      "outputs": []
    },
    {
      "cell_type": "code",
      "metadata": {
        "id": "UG6_mCac40ds"
      },
      "source": [
        "import time\n",
        "import math\n",
        "\n",
        "\n",
        "def asMinutes(s):\n",
        "    m = math.floor(s / 60)\n",
        "    s -= m * 60\n",
        "    return '%dm %ds' % (m, s)\n",
        "\n",
        "\n",
        "def timeSince(since, percent):\n",
        "    now = time.time()\n",
        "    s = now - since\n",
        "    es = s / (percent)\n",
        "    rs = es - s\n",
        "    return '%s (- %s)' % (asMinutes(s), asMinutes(rs))"
      ],
      "execution_count": null,
      "outputs": []
    },
    {
      "cell_type": "code",
      "metadata": {
        "id": "eFNSl4AQ1mxS"
      },
      "source": [
        "import time\n",
        "from tqdm.notebook import tqdm\n",
        "def trainIters(encoder_1, encoder_2, decoder, n_iters, print_every=1000, plot_every=100, learning_rate=0.01):\n",
        "    start = time.time()\n",
        "    plot_losses = []\n",
        "    print_loss_total = 0  # Reset every print_every\n",
        "    plot_loss_total = 0  # Reset every plot_every\n",
        "\n",
        "    encoder_optimizer_1 = optim.SGD(encoder_1.parameters(), lr=learning_rate)\n",
        "    encoder_optimizer_2 = optim.SGD(encoder_2.parameters(), lr=learning_rate)\n",
        "    decoder_optimizer = optim.SGD(decoder.parameters(), lr=learning_rate)\n",
        "    training_pairs = [tensorsFromPair(random.choice(pairs))\n",
        "                      for i in range(n_iters)]\n",
        "    criterion = nn.NLLLoss()\n",
        "    for iter in tqdm(range(1, n_iters + 1)):\n",
        "        training_pair = training_pairs[iter - 1]\n",
        "        input_tensor_1 = training_pair[0]\n",
        "        input_tensor_2 = training_pair[1]\n",
        "        target_tensor = training_pair[2]\n",
        "\n",
        "        loss = train(input_tensor_1, input_tensor_2, target_tensor, encoder_1, encoder_2,\n",
        "                     decoder, encoder_optimizer_1, encoder_optimizer_2, decoder_optimizer, criterion)\n",
        "        print_loss_total += loss\n",
        "        plot_loss_total += loss\n",
        "        \n",
        "        if iter % print_every == 0:\n",
        "            print_loss_avg = print_loss_total / print_every\n",
        "            print_loss_total = 0\n",
        "            print('%s (%d %d%%) %.4f' % (timeSince(start, iter / n_iters),\n",
        "                                         iter, iter / n_iters * 100, print_loss_avg))\n",
        "            # torch.save(encoder_1.state_dict(), '/content/drive/MyDrive/NLP/Trance/models/encoder_weights_1')\n",
        "            # torch.save(encoder_2.state_dict(), '/content/drive/MyDrive/NLP/Trance/models/encoder_weights_2')\n",
        "            # torch.save(decoder.state_dict(), '/content/drive/MyDrive/NLP/Trance/models/decoder_weights')\n",
        "            # torch.save(encoder_optimizer_1.state_dict(), '/content/drive/MyDrive/NLP/Trance/models/encoder_optimizer_1')\n",
        "            # torch.save(encoder_optimizer_2.state_dict(), '/content/drive/MyDrive/NLP/Trance/models/encoder_optimizer_2')\n",
        "            # torch.save(decoder_optimizer.state_dict(), '/content/drive/MyDrive/NLP/Trance/models/decoder_optimizer')\n",
        "        if iter % plot_every == 0:\n",
        "            plot_loss_avg = plot_loss_total / plot_every\n",
        "            plot_losses.append(plot_loss_avg)\n",
        "            plot_loss_total = 0\n",
        "\n",
        "\n",
        "    showPlot(plot_losses)"
      ],
      "execution_count": null,
      "outputs": []
    },
    {
      "cell_type": "code",
      "metadata": {
        "id": "xmvFNamQ4jCv"
      },
      "source": [
        "import matplotlib.pyplot as plt\n",
        "plt.switch_backend('agg')\n",
        "import matplotlib.ticker as ticker\n",
        "import numpy as np\n",
        "\n",
        "\n",
        "def showPlot(points):\n",
        "    plt.figure()\n",
        "    fig, ax = plt.subplots()\n",
        "    # this locator puts ticks at regular intervals\n",
        "    loc = ticker.MultipleLocator(base=0.2)\n",
        "    ax.yaxis.set_major_locator(loc)\n",
        "    plt.plot(points)"
      ],
      "execution_count": null,
      "outputs": []
    },
    {
      "cell_type": "code",
      "metadata": {
        "id": "3aGcgCpj42dd"
      },
      "source": [
        "hidden_size = 256\n",
        "encoder_1 = EncoderRNNL1(input_lang_1.n_words, hidden_size).to(device)\n",
        "encoder_2 = EncoderRNNL2(input_lang_2.n_words, hidden_size).to(device)\n",
        "attn_decoder = AttnDecoderRNN(hidden_size, output_lang.n_words, dropout_p=0.1).to(device)\n",
        "\n",
        "trainIters(encoder_1, encoder_2, attn_decoder, 75000, print_every=100)"
      ],
      "execution_count": null,
      "outputs": []
    },
    {
      "cell_type": "code",
      "metadata": {
        "id": "IkCurE8EGon2"
      },
      "source": [
        "# modl arch, performance, analyze few examples, common patterns that are failing, overcoming existing baselines"
      ],
      "execution_count": null,
      "outputs": []
    },
    {
      "cell_type": "code",
      "metadata": {
        "id": "5BP_A2NV6wI0"
      },
      "source": [
        "hidden_size=256\n",
        "encoder_1 = EncoderRNNL1(input_lang_1.n_words, hidden_size).to(device)\n",
        "encoder_2 = EncoderRNNL2(input_lang_2.n_words, hidden_size).to(device)\n",
        "attn_decoder = AttnDecoderRNN(hidden_size, output_lang.n_words, dropout_p=0.1).to(device)\n",
        "encoder_1.load_state_dict(torch.load('/content/drive/MyDrive/NLP/Trance/models/encoder_weights_1', map_location=torch.device('cpu')))\n",
        "encoder_2.load_state_dict(torch.load('/content/drive/MyDrive/NLP/Trance/models/encoder_weights_2', map_location=torch.device('cpu')))\n",
        "attn_decoder.load_state_dict(torch.load('/content/drive/MyDrive/NLP/Trance/models/decoder_weights', map_location=torch.device('cpu')))"
      ],
      "execution_count": null,
      "outputs": []
    },
    {
      "cell_type": "code",
      "metadata": {
        "id": "reyBMf0_NDDW"
      },
      "source": [
        "def evaluate(encoder_1, encoder_2, decoder, sentence_1, sentence_2, max_length=MAX_LENGTH):\n",
        "    with torch.no_grad():\n",
        "        input_tensor_1 = tensorFromSentence(input_lang_1, sentence_1)\n",
        "        input_tensor_2 = tensorFromSentence(input_lang_2, sentence_2)\n",
        "        input_length_1 = input_tensor_1.size()[0]\n",
        "        input_length_2 = input_tensor_2.size()[0]\n",
        "        encoder_hidden_1 = encoder_1.initHidden()\n",
        "        encoder_hidden_2 = encoder_2.initHidden()\n",
        "\n",
        "        encoder_outputs_1 = torch.zeros(max_length, encoder_1.hidden_size, device=device)\n",
        "        encoder_outputs_2 = torch.zeros(max_length, encoder_2.hidden_size, device=device)\n",
        "        \n",
        "\n",
        "        for ei in range(input_length_1):\n",
        "            encoder_output_1, encoder_hidden_1 = encoder_1(input_tensor_1[ei],\n",
        "                                                     encoder_hidden_1)\n",
        "            encoder_outputs_1[ei] += encoder_output_1[0, 0]\n",
        "            \n",
        "        for ei in range(input_length_2):\n",
        "            encoder_output_2, encoder_hidden_2 = encoder_2(input_tensor_2[ei],\n",
        "                                                     encoder_hidden_2)\n",
        "            encoder_outputs_2[ei] += encoder_output_2[0, 0]\n",
        "\n",
        "        decoder_input = torch.tensor([[SOS_token]], device=device)  # SOS\n",
        "\n",
        "        decoder_hidden = encoder_hidden_1 - encoder_hidden_2\n",
        "\n",
        "        decoded_words = []\n",
        "        decoder_attentions = torch.zeros(max_length, max_length)\n",
        "\n",
        "        encoder_outputs = encoder_outputs_1 - encoder_outputs_2\n",
        "        \n",
        "        for di in range(max_length):\n",
        "            decoder_output, decoder_hidden, decoder_attention = decoder(\n",
        "                decoder_input, decoder_hidden, encoder_outputs)\n",
        "            decoder_attentions[di] = decoder_attention.data\n",
        "            topv, topi = decoder_output.data.topk(1)\n",
        "            if topi.item() == EOS_token:\n",
        "                decoded_words.append('<EOS>')\n",
        "                break\n",
        "            else:\n",
        "                decoded_words.append(output_lang.index2word[topi.item()])\n",
        "\n",
        "            decoder_input = topi.squeeze().detach()\n",
        "\n",
        "        return decoded_words, decoder_attentions[:di + 1]"
      ],
      "execution_count": null,
      "outputs": []
    },
    {
      "cell_type": "code",
      "metadata": {
        "id": "AU-yauaFOAkf"
      },
      "source": [
        "def evaluateRandomly(encoder_1, encoder_2, decoder, n=10):\n",
        "    for i in range(n):\n",
        "        pair = random.choice(pairs)\n",
        "        print('>', pair[0])\n",
        "        print('=', pair[1])\n",
        "        output_words, attentions = evaluate(encoder_1, encoder_2, decoder, pair[0], pair[1])\n",
        "        output_sentence = ' '.join(output_words)\n",
        "        print(len(output_words))\n",
        "        print('<', output_sentence)\n",
        "        print('')"
      ],
      "execution_count": null,
      "outputs": []
    },
    {
      "cell_type": "code",
      "metadata": {
        "id": "_NOqqdP25r19"
      },
      "source": [
        "evaluateRandomly(encoder_1, encoder_2, attn_decoder, 1)"
      ],
      "execution_count": null,
      "outputs": []
    },
    {
      "cell_type": "code",
      "metadata": {
        "id": "ESwDa_hM5-2j"
      },
      "source": [
        ""
      ],
      "execution_count": null,
      "outputs": []
    }
  ]
}