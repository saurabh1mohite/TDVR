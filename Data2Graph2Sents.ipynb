{
  "nbformat": 4,
  "nbformat_minor": 0,
  "metadata": {
    "colab": {
      "name": "Data2Graph2Sents.ipynb",
      "provenance": [],
      "collapsed_sections": [],
      "mount_file_id": "1U4-dsus5KVVKUtdOdje5x4rD4mD6O74C",
      "authorship_tag": "ABX9TyP2mfvFkB1jwrx8w5YFBhly",
      "include_colab_link": true
    },
    "kernelspec": {
      "name": "python3",
      "display_name": "Python 3"
    },
    "language_info": {
      "name": "python"
    },
    "widgets": {
      "application/vnd.jupyter.widget-state+json": {
        "edf07d73281f498ea919d930de75427f": {
          "model_module": "@jupyter-widgets/controls",
          "model_name": "HBoxModel",
          "model_module_version": "1.5.0",
          "state": {
            "_view_name": "HBoxView",
            "_dom_classes": [],
            "_model_name": "HBoxModel",
            "_view_module": "@jupyter-widgets/controls",
            "_model_module_version": "1.5.0",
            "_view_count": null,
            "_view_module_version": "1.5.0",
            "box_style": "",
            "layout": "IPY_MODEL_c9f38559128346ba8eb106372259b7c6",
            "_model_module": "@jupyter-widgets/controls",
            "children": [
              "IPY_MODEL_38b2b7ab38af446db311b4d88231e42e",
              "IPY_MODEL_38b3d1dc51e34ce4b2d745439b328e73",
              "IPY_MODEL_f43a51732c2049cd9abaf2e02b92a6c1"
            ]
          }
        },
        "c9f38559128346ba8eb106372259b7c6": {
          "model_module": "@jupyter-widgets/base",
          "model_name": "LayoutModel",
          "model_module_version": "1.2.0",
          "state": {
            "_view_name": "LayoutView",
            "grid_template_rows": null,
            "right": null,
            "justify_content": null,
            "_view_module": "@jupyter-widgets/base",
            "overflow": null,
            "_model_module_version": "1.2.0",
            "_view_count": null,
            "flex_flow": null,
            "width": null,
            "min_width": null,
            "border": null,
            "align_items": null,
            "bottom": null,
            "_model_module": "@jupyter-widgets/base",
            "top": null,
            "grid_column": null,
            "overflow_y": null,
            "overflow_x": null,
            "grid_auto_flow": null,
            "grid_area": null,
            "grid_template_columns": null,
            "flex": null,
            "_model_name": "LayoutModel",
            "justify_items": null,
            "grid_row": null,
            "max_height": null,
            "align_content": null,
            "visibility": null,
            "align_self": null,
            "height": null,
            "min_height": null,
            "padding": null,
            "grid_auto_rows": null,
            "grid_gap": null,
            "max_width": null,
            "order": null,
            "_view_module_version": "1.2.0",
            "grid_template_areas": null,
            "object_position": null,
            "object_fit": null,
            "grid_auto_columns": null,
            "margin": null,
            "display": null,
            "left": null
          }
        },
        "38b2b7ab38af446db311b4d88231e42e": {
          "model_module": "@jupyter-widgets/controls",
          "model_name": "HTMLModel",
          "model_module_version": "1.5.0",
          "state": {
            "_view_name": "HTMLView",
            "style": "IPY_MODEL_c96a2d43f8fb464d8b08d85f881e76ca",
            "_dom_classes": [],
            "description": "",
            "_model_name": "HTMLModel",
            "placeholder": "​",
            "_view_module": "@jupyter-widgets/controls",
            "_model_module_version": "1.5.0",
            "value": "100%",
            "_view_count": null,
            "_view_module_version": "1.5.0",
            "description_tooltip": null,
            "_model_module": "@jupyter-widgets/controls",
            "layout": "IPY_MODEL_1018ae0c24084aa5a82de659a123b5b7"
          }
        },
        "38b3d1dc51e34ce4b2d745439b328e73": {
          "model_module": "@jupyter-widgets/controls",
          "model_name": "FloatProgressModel",
          "model_module_version": "1.5.0",
          "state": {
            "_view_name": "ProgressView",
            "style": "IPY_MODEL_15c8e7c327a3406b92e5439a9212ebed",
            "_dom_classes": [],
            "description": "",
            "_model_name": "FloatProgressModel",
            "bar_style": "danger",
            "max": 31800,
            "_view_module": "@jupyter-widgets/controls",
            "_model_module_version": "1.5.0",
            "value": 31799,
            "_view_count": null,
            "_view_module_version": "1.5.0",
            "orientation": "horizontal",
            "min": 0,
            "description_tooltip": null,
            "_model_module": "@jupyter-widgets/controls",
            "layout": "IPY_MODEL_64dbfae27ba04e568505c1eff519a427"
          }
        },
        "f43a51732c2049cd9abaf2e02b92a6c1": {
          "model_module": "@jupyter-widgets/controls",
          "model_name": "HTMLModel",
          "model_module_version": "1.5.0",
          "state": {
            "_view_name": "HTMLView",
            "style": "IPY_MODEL_f3e0182ca60d41a6b2f23429f552c13b",
            "_dom_classes": [],
            "description": "",
            "_model_name": "HTMLModel",
            "placeholder": "​",
            "_view_module": "@jupyter-widgets/controls",
            "_model_module_version": "1.5.0",
            "value": " 31799/31800 [00:35&lt;00:00, 867.54it/s]",
            "_view_count": null,
            "_view_module_version": "1.5.0",
            "description_tooltip": null,
            "_model_module": "@jupyter-widgets/controls",
            "layout": "IPY_MODEL_8c8719f3d83a4cd0b27974f1dae729d5"
          }
        },
        "c96a2d43f8fb464d8b08d85f881e76ca": {
          "model_module": "@jupyter-widgets/controls",
          "model_name": "DescriptionStyleModel",
          "model_module_version": "1.5.0",
          "state": {
            "_view_name": "StyleView",
            "_model_name": "DescriptionStyleModel",
            "description_width": "",
            "_view_module": "@jupyter-widgets/base",
            "_model_module_version": "1.5.0",
            "_view_count": null,
            "_view_module_version": "1.2.0",
            "_model_module": "@jupyter-widgets/controls"
          }
        },
        "1018ae0c24084aa5a82de659a123b5b7": {
          "model_module": "@jupyter-widgets/base",
          "model_name": "LayoutModel",
          "model_module_version": "1.2.0",
          "state": {
            "_view_name": "LayoutView",
            "grid_template_rows": null,
            "right": null,
            "justify_content": null,
            "_view_module": "@jupyter-widgets/base",
            "overflow": null,
            "_model_module_version": "1.2.0",
            "_view_count": null,
            "flex_flow": null,
            "width": null,
            "min_width": null,
            "border": null,
            "align_items": null,
            "bottom": null,
            "_model_module": "@jupyter-widgets/base",
            "top": null,
            "grid_column": null,
            "overflow_y": null,
            "overflow_x": null,
            "grid_auto_flow": null,
            "grid_area": null,
            "grid_template_columns": null,
            "flex": null,
            "_model_name": "LayoutModel",
            "justify_items": null,
            "grid_row": null,
            "max_height": null,
            "align_content": null,
            "visibility": null,
            "align_self": null,
            "height": null,
            "min_height": null,
            "padding": null,
            "grid_auto_rows": null,
            "grid_gap": null,
            "max_width": null,
            "order": null,
            "_view_module_version": "1.2.0",
            "grid_template_areas": null,
            "object_position": null,
            "object_fit": null,
            "grid_auto_columns": null,
            "margin": null,
            "display": null,
            "left": null
          }
        },
        "15c8e7c327a3406b92e5439a9212ebed": {
          "model_module": "@jupyter-widgets/controls",
          "model_name": "ProgressStyleModel",
          "model_module_version": "1.5.0",
          "state": {
            "_view_name": "StyleView",
            "_model_name": "ProgressStyleModel",
            "description_width": "",
            "_view_module": "@jupyter-widgets/base",
            "_model_module_version": "1.5.0",
            "_view_count": null,
            "_view_module_version": "1.2.0",
            "bar_color": null,
            "_model_module": "@jupyter-widgets/controls"
          }
        },
        "64dbfae27ba04e568505c1eff519a427": {
          "model_module": "@jupyter-widgets/base",
          "model_name": "LayoutModel",
          "model_module_version": "1.2.0",
          "state": {
            "_view_name": "LayoutView",
            "grid_template_rows": null,
            "right": null,
            "justify_content": null,
            "_view_module": "@jupyter-widgets/base",
            "overflow": null,
            "_model_module_version": "1.2.0",
            "_view_count": null,
            "flex_flow": null,
            "width": null,
            "min_width": null,
            "border": null,
            "align_items": null,
            "bottom": null,
            "_model_module": "@jupyter-widgets/base",
            "top": null,
            "grid_column": null,
            "overflow_y": null,
            "overflow_x": null,
            "grid_auto_flow": null,
            "grid_area": null,
            "grid_template_columns": null,
            "flex": null,
            "_model_name": "LayoutModel",
            "justify_items": null,
            "grid_row": null,
            "max_height": null,
            "align_content": null,
            "visibility": null,
            "align_self": null,
            "height": null,
            "min_height": null,
            "padding": null,
            "grid_auto_rows": null,
            "grid_gap": null,
            "max_width": null,
            "order": null,
            "_view_module_version": "1.2.0",
            "grid_template_areas": null,
            "object_position": null,
            "object_fit": null,
            "grid_auto_columns": null,
            "margin": null,
            "display": null,
            "left": null
          }
        },
        "f3e0182ca60d41a6b2f23429f552c13b": {
          "model_module": "@jupyter-widgets/controls",
          "model_name": "DescriptionStyleModel",
          "model_module_version": "1.5.0",
          "state": {
            "_view_name": "StyleView",
            "_model_name": "DescriptionStyleModel",
            "description_width": "",
            "_view_module": "@jupyter-widgets/base",
            "_model_module_version": "1.5.0",
            "_view_count": null,
            "_view_module_version": "1.2.0",
            "_model_module": "@jupyter-widgets/controls"
          }
        },
        "8c8719f3d83a4cd0b27974f1dae729d5": {
          "model_module": "@jupyter-widgets/base",
          "model_name": "LayoutModel",
          "model_module_version": "1.2.0",
          "state": {
            "_view_name": "LayoutView",
            "grid_template_rows": null,
            "right": null,
            "justify_content": null,
            "_view_module": "@jupyter-widgets/base",
            "overflow": null,
            "_model_module_version": "1.2.0",
            "_view_count": null,
            "flex_flow": null,
            "width": null,
            "min_width": null,
            "border": null,
            "align_items": null,
            "bottom": null,
            "_model_module": "@jupyter-widgets/base",
            "top": null,
            "grid_column": null,
            "overflow_y": null,
            "overflow_x": null,
            "grid_auto_flow": null,
            "grid_area": null,
            "grid_template_columns": null,
            "flex": null,
            "_model_name": "LayoutModel",
            "justify_items": null,
            "grid_row": null,
            "max_height": null,
            "align_content": null,
            "visibility": null,
            "align_self": null,
            "height": null,
            "min_height": null,
            "padding": null,
            "grid_auto_rows": null,
            "grid_gap": null,
            "max_width": null,
            "order": null,
            "_view_module_version": "1.2.0",
            "grid_template_areas": null,
            "object_position": null,
            "object_fit": null,
            "grid_auto_columns": null,
            "margin": null,
            "display": null,
            "left": null
          }
        },
        "70ddbbecec744cd5b2cb37860caf83e2": {
          "model_module": "@jupyter-widgets/controls",
          "model_name": "HBoxModel",
          "model_module_version": "1.5.0",
          "state": {
            "_view_name": "HBoxView",
            "_dom_classes": [],
            "_model_name": "HBoxModel",
            "_view_module": "@jupyter-widgets/controls",
            "_model_module_version": "1.5.0",
            "_view_count": null,
            "_view_module_version": "1.5.0",
            "box_style": "",
            "layout": "IPY_MODEL_8c9a2ce8291b4903a94aba50198b1e9a",
            "_model_module": "@jupyter-widgets/controls",
            "children": [
              "IPY_MODEL_70eaa8f672134622bf2e44be187818ff",
              "IPY_MODEL_cdc179b30ca34e9da380b213a7a2e268",
              "IPY_MODEL_1a53adb9ec0c4aa3af7fbf0fcf22640b"
            ]
          }
        },
        "8c9a2ce8291b4903a94aba50198b1e9a": {
          "model_module": "@jupyter-widgets/base",
          "model_name": "LayoutModel",
          "model_module_version": "1.2.0",
          "state": {
            "_view_name": "LayoutView",
            "grid_template_rows": null,
            "right": null,
            "justify_content": null,
            "_view_module": "@jupyter-widgets/base",
            "overflow": null,
            "_model_module_version": "1.2.0",
            "_view_count": null,
            "flex_flow": null,
            "width": null,
            "min_width": null,
            "border": null,
            "align_items": null,
            "bottom": null,
            "_model_module": "@jupyter-widgets/base",
            "top": null,
            "grid_column": null,
            "overflow_y": null,
            "overflow_x": null,
            "grid_auto_flow": null,
            "grid_area": null,
            "grid_template_columns": null,
            "flex": null,
            "_model_name": "LayoutModel",
            "justify_items": null,
            "grid_row": null,
            "max_height": null,
            "align_content": null,
            "visibility": null,
            "align_self": null,
            "height": null,
            "min_height": null,
            "padding": null,
            "grid_auto_rows": null,
            "grid_gap": null,
            "max_width": null,
            "order": null,
            "_view_module_version": "1.2.0",
            "grid_template_areas": null,
            "object_position": null,
            "object_fit": null,
            "grid_auto_columns": null,
            "margin": null,
            "display": null,
            "left": null
          }
        },
        "70eaa8f672134622bf2e44be187818ff": {
          "model_module": "@jupyter-widgets/controls",
          "model_name": "HTMLModel",
          "model_module_version": "1.5.0",
          "state": {
            "_view_name": "HTMLView",
            "style": "IPY_MODEL_3800ae327bad484abdaf6c8c9858cfdb",
            "_dom_classes": [],
            "description": "",
            "_model_name": "HTMLModel",
            "placeholder": "​",
            "_view_module": "@jupyter-widgets/controls",
            "_model_module_version": "1.5.0",
            "value": "100%",
            "_view_count": null,
            "_view_module_version": "1.5.0",
            "description_tooltip": null,
            "_model_module": "@jupyter-widgets/controls",
            "layout": "IPY_MODEL_4cded582f74243ce888e03a01f28e964"
          }
        },
        "cdc179b30ca34e9da380b213a7a2e268": {
          "model_module": "@jupyter-widgets/controls",
          "model_name": "FloatProgressModel",
          "model_module_version": "1.5.0",
          "state": {
            "_view_name": "ProgressView",
            "style": "IPY_MODEL_d9377cb1bbe14b8aa67b114c4ff58e23",
            "_dom_classes": [],
            "description": "",
            "_model_name": "FloatProgressModel",
            "bar_style": "success",
            "max": 95400,
            "_view_module": "@jupyter-widgets/controls",
            "_model_module_version": "1.5.0",
            "value": 95400,
            "_view_count": null,
            "_view_module_version": "1.5.0",
            "orientation": "horizontal",
            "min": 0,
            "description_tooltip": null,
            "_model_module": "@jupyter-widgets/controls",
            "layout": "IPY_MODEL_4fb863f5424c465792a4b262c63f979a"
          }
        },
        "1a53adb9ec0c4aa3af7fbf0fcf22640b": {
          "model_module": "@jupyter-widgets/controls",
          "model_name": "HTMLModel",
          "model_module_version": "1.5.0",
          "state": {
            "_view_name": "HTMLView",
            "style": "IPY_MODEL_a2f24ff7e4cd4a82acee5af6d037b97e",
            "_dom_classes": [],
            "description": "",
            "_model_name": "HTMLModel",
            "placeholder": "​",
            "_view_module": "@jupyter-widgets/controls",
            "_model_module_version": "1.5.0",
            "value": " 95400/95400 [00:42&lt;00:00, 2149.70it/s]",
            "_view_count": null,
            "_view_module_version": "1.5.0",
            "description_tooltip": null,
            "_model_module": "@jupyter-widgets/controls",
            "layout": "IPY_MODEL_96d7fbd90d574bb9b266774e7bf71551"
          }
        },
        "3800ae327bad484abdaf6c8c9858cfdb": {
          "model_module": "@jupyter-widgets/controls",
          "model_name": "DescriptionStyleModel",
          "model_module_version": "1.5.0",
          "state": {
            "_view_name": "StyleView",
            "_model_name": "DescriptionStyleModel",
            "description_width": "",
            "_view_module": "@jupyter-widgets/base",
            "_model_module_version": "1.5.0",
            "_view_count": null,
            "_view_module_version": "1.2.0",
            "_model_module": "@jupyter-widgets/controls"
          }
        },
        "4cded582f74243ce888e03a01f28e964": {
          "model_module": "@jupyter-widgets/base",
          "model_name": "LayoutModel",
          "model_module_version": "1.2.0",
          "state": {
            "_view_name": "LayoutView",
            "grid_template_rows": null,
            "right": null,
            "justify_content": null,
            "_view_module": "@jupyter-widgets/base",
            "overflow": null,
            "_model_module_version": "1.2.0",
            "_view_count": null,
            "flex_flow": null,
            "width": null,
            "min_width": null,
            "border": null,
            "align_items": null,
            "bottom": null,
            "_model_module": "@jupyter-widgets/base",
            "top": null,
            "grid_column": null,
            "overflow_y": null,
            "overflow_x": null,
            "grid_auto_flow": null,
            "grid_area": null,
            "grid_template_columns": null,
            "flex": null,
            "_model_name": "LayoutModel",
            "justify_items": null,
            "grid_row": null,
            "max_height": null,
            "align_content": null,
            "visibility": null,
            "align_self": null,
            "height": null,
            "min_height": null,
            "padding": null,
            "grid_auto_rows": null,
            "grid_gap": null,
            "max_width": null,
            "order": null,
            "_view_module_version": "1.2.0",
            "grid_template_areas": null,
            "object_position": null,
            "object_fit": null,
            "grid_auto_columns": null,
            "margin": null,
            "display": null,
            "left": null
          }
        },
        "d9377cb1bbe14b8aa67b114c4ff58e23": {
          "model_module": "@jupyter-widgets/controls",
          "model_name": "ProgressStyleModel",
          "model_module_version": "1.5.0",
          "state": {
            "_view_name": "StyleView",
            "_model_name": "ProgressStyleModel",
            "description_width": "",
            "_view_module": "@jupyter-widgets/base",
            "_model_module_version": "1.5.0",
            "_view_count": null,
            "_view_module_version": "1.2.0",
            "bar_color": null,
            "_model_module": "@jupyter-widgets/controls"
          }
        },
        "4fb863f5424c465792a4b262c63f979a": {
          "model_module": "@jupyter-widgets/base",
          "model_name": "LayoutModel",
          "model_module_version": "1.2.0",
          "state": {
            "_view_name": "LayoutView",
            "grid_template_rows": null,
            "right": null,
            "justify_content": null,
            "_view_module": "@jupyter-widgets/base",
            "overflow": null,
            "_model_module_version": "1.2.0",
            "_view_count": null,
            "flex_flow": null,
            "width": null,
            "min_width": null,
            "border": null,
            "align_items": null,
            "bottom": null,
            "_model_module": "@jupyter-widgets/base",
            "top": null,
            "grid_column": null,
            "overflow_y": null,
            "overflow_x": null,
            "grid_auto_flow": null,
            "grid_area": null,
            "grid_template_columns": null,
            "flex": null,
            "_model_name": "LayoutModel",
            "justify_items": null,
            "grid_row": null,
            "max_height": null,
            "align_content": null,
            "visibility": null,
            "align_self": null,
            "height": null,
            "min_height": null,
            "padding": null,
            "grid_auto_rows": null,
            "grid_gap": null,
            "max_width": null,
            "order": null,
            "_view_module_version": "1.2.0",
            "grid_template_areas": null,
            "object_position": null,
            "object_fit": null,
            "grid_auto_columns": null,
            "margin": null,
            "display": null,
            "left": null
          }
        },
        "a2f24ff7e4cd4a82acee5af6d037b97e": {
          "model_module": "@jupyter-widgets/controls",
          "model_name": "DescriptionStyleModel",
          "model_module_version": "1.5.0",
          "state": {
            "_view_name": "StyleView",
            "_model_name": "DescriptionStyleModel",
            "description_width": "",
            "_view_module": "@jupyter-widgets/base",
            "_model_module_version": "1.5.0",
            "_view_count": null,
            "_view_module_version": "1.2.0",
            "_model_module": "@jupyter-widgets/controls"
          }
        },
        "96d7fbd90d574bb9b266774e7bf71551": {
          "model_module": "@jupyter-widgets/base",
          "model_name": "LayoutModel",
          "model_module_version": "1.2.0",
          "state": {
            "_view_name": "LayoutView",
            "grid_template_rows": null,
            "right": null,
            "justify_content": null,
            "_view_module": "@jupyter-widgets/base",
            "overflow": null,
            "_model_module_version": "1.2.0",
            "_view_count": null,
            "flex_flow": null,
            "width": null,
            "min_width": null,
            "border": null,
            "align_items": null,
            "bottom": null,
            "_model_module": "@jupyter-widgets/base",
            "top": null,
            "grid_column": null,
            "overflow_y": null,
            "overflow_x": null,
            "grid_auto_flow": null,
            "grid_area": null,
            "grid_template_columns": null,
            "flex": null,
            "_model_name": "LayoutModel",
            "justify_items": null,
            "grid_row": null,
            "max_height": null,
            "align_content": null,
            "visibility": null,
            "align_self": null,
            "height": null,
            "min_height": null,
            "padding": null,
            "grid_auto_rows": null,
            "grid_gap": null,
            "max_width": null,
            "order": null,
            "_view_module_version": "1.2.0",
            "grid_template_areas": null,
            "object_position": null,
            "object_fit": null,
            "grid_auto_columns": null,
            "margin": null,
            "display": null,
            "left": null
          }
        },
        "5ae6b233c0a94d82bdada43590680ac7": {
          "model_module": "@jupyter-widgets/controls",
          "model_name": "HBoxModel",
          "model_module_version": "1.5.0",
          "state": {
            "_view_name": "HBoxView",
            "_dom_classes": [],
            "_model_name": "HBoxModel",
            "_view_module": "@jupyter-widgets/controls",
            "_model_module_version": "1.5.0",
            "_view_count": null,
            "_view_module_version": "1.5.0",
            "box_style": "",
            "layout": "IPY_MODEL_fdc4771644604e2ca36eba782ce65bad",
            "_model_module": "@jupyter-widgets/controls",
            "children": [
              "IPY_MODEL_677806b7145c4b98b3293f37b14b60d8",
              "IPY_MODEL_06da6ca3e4954c44a098900883f5113e",
              "IPY_MODEL_86d8456b71594b47804fa0facba343f4"
            ]
          }
        },
        "fdc4771644604e2ca36eba782ce65bad": {
          "model_module": "@jupyter-widgets/base",
          "model_name": "LayoutModel",
          "model_module_version": "1.2.0",
          "state": {
            "_view_name": "LayoutView",
            "grid_template_rows": null,
            "right": null,
            "justify_content": null,
            "_view_module": "@jupyter-widgets/base",
            "overflow": null,
            "_model_module_version": "1.2.0",
            "_view_count": null,
            "flex_flow": null,
            "width": null,
            "min_width": null,
            "border": null,
            "align_items": null,
            "bottom": null,
            "_model_module": "@jupyter-widgets/base",
            "top": null,
            "grid_column": null,
            "overflow_y": null,
            "overflow_x": null,
            "grid_auto_flow": null,
            "grid_area": null,
            "grid_template_columns": null,
            "flex": null,
            "_model_name": "LayoutModel",
            "justify_items": null,
            "grid_row": null,
            "max_height": null,
            "align_content": null,
            "visibility": null,
            "align_self": null,
            "height": null,
            "min_height": null,
            "padding": null,
            "grid_auto_rows": null,
            "grid_gap": null,
            "max_width": null,
            "order": null,
            "_view_module_version": "1.2.0",
            "grid_template_areas": null,
            "object_position": null,
            "object_fit": null,
            "grid_auto_columns": null,
            "margin": null,
            "display": null,
            "left": null
          }
        },
        "677806b7145c4b98b3293f37b14b60d8": {
          "model_module": "@jupyter-widgets/controls",
          "model_name": "HTMLModel",
          "model_module_version": "1.5.0",
          "state": {
            "_view_name": "HTMLView",
            "style": "IPY_MODEL_253926ff467d4acda5ed32b0661621b3",
            "_dom_classes": [],
            "description": "",
            "_model_name": "HTMLModel",
            "placeholder": "​",
            "_view_module": "@jupyter-widgets/controls",
            "_model_module_version": "1.5.0",
            "value": "100%",
            "_view_count": null,
            "_view_module_version": "1.5.0",
            "description_tooltip": null,
            "_model_module": "@jupyter-widgets/controls",
            "layout": "IPY_MODEL_961e60cb1fee41288afdf07313e2ad0d"
          }
        },
        "06da6ca3e4954c44a098900883f5113e": {
          "model_module": "@jupyter-widgets/controls",
          "model_name": "FloatProgressModel",
          "model_module_version": "1.5.0",
          "state": {
            "_view_name": "ProgressView",
            "style": "IPY_MODEL_869151a53cb3405c93083d9eb02c9bee",
            "_dom_classes": [],
            "description": "",
            "_model_name": "FloatProgressModel",
            "bar_style": "success",
            "max": 31800,
            "_view_module": "@jupyter-widgets/controls",
            "_model_module_version": "1.5.0",
            "value": 31800,
            "_view_count": null,
            "_view_module_version": "1.5.0",
            "orientation": "horizontal",
            "min": 0,
            "description_tooltip": null,
            "_model_module": "@jupyter-widgets/controls",
            "layout": "IPY_MODEL_1fcd2b075d6d4a93b0883d42618de629"
          }
        },
        "86d8456b71594b47804fa0facba343f4": {
          "model_module": "@jupyter-widgets/controls",
          "model_name": "HTMLModel",
          "model_module_version": "1.5.0",
          "state": {
            "_view_name": "HTMLView",
            "style": "IPY_MODEL_538214cdc26843479a23d8688a265b0e",
            "_dom_classes": [],
            "description": "",
            "_model_name": "HTMLModel",
            "placeholder": "​",
            "_view_module": "@jupyter-widgets/controls",
            "_model_module_version": "1.5.0",
            "value": " 31800/31800 [00:00&lt;00:00, 57673.11it/s]",
            "_view_count": null,
            "_view_module_version": "1.5.0",
            "description_tooltip": null,
            "_model_module": "@jupyter-widgets/controls",
            "layout": "IPY_MODEL_33fb0a8def3e4c0589872540c2f2ac80"
          }
        },
        "253926ff467d4acda5ed32b0661621b3": {
          "model_module": "@jupyter-widgets/controls",
          "model_name": "DescriptionStyleModel",
          "model_module_version": "1.5.0",
          "state": {
            "_view_name": "StyleView",
            "_model_name": "DescriptionStyleModel",
            "description_width": "",
            "_view_module": "@jupyter-widgets/base",
            "_model_module_version": "1.5.0",
            "_view_count": null,
            "_view_module_version": "1.2.0",
            "_model_module": "@jupyter-widgets/controls"
          }
        },
        "961e60cb1fee41288afdf07313e2ad0d": {
          "model_module": "@jupyter-widgets/base",
          "model_name": "LayoutModel",
          "model_module_version": "1.2.0",
          "state": {
            "_view_name": "LayoutView",
            "grid_template_rows": null,
            "right": null,
            "justify_content": null,
            "_view_module": "@jupyter-widgets/base",
            "overflow": null,
            "_model_module_version": "1.2.0",
            "_view_count": null,
            "flex_flow": null,
            "width": null,
            "min_width": null,
            "border": null,
            "align_items": null,
            "bottom": null,
            "_model_module": "@jupyter-widgets/base",
            "top": null,
            "grid_column": null,
            "overflow_y": null,
            "overflow_x": null,
            "grid_auto_flow": null,
            "grid_area": null,
            "grid_template_columns": null,
            "flex": null,
            "_model_name": "LayoutModel",
            "justify_items": null,
            "grid_row": null,
            "max_height": null,
            "align_content": null,
            "visibility": null,
            "align_self": null,
            "height": null,
            "min_height": null,
            "padding": null,
            "grid_auto_rows": null,
            "grid_gap": null,
            "max_width": null,
            "order": null,
            "_view_module_version": "1.2.0",
            "grid_template_areas": null,
            "object_position": null,
            "object_fit": null,
            "grid_auto_columns": null,
            "margin": null,
            "display": null,
            "left": null
          }
        },
        "869151a53cb3405c93083d9eb02c9bee": {
          "model_module": "@jupyter-widgets/controls",
          "model_name": "ProgressStyleModel",
          "model_module_version": "1.5.0",
          "state": {
            "_view_name": "StyleView",
            "_model_name": "ProgressStyleModel",
            "description_width": "",
            "_view_module": "@jupyter-widgets/base",
            "_model_module_version": "1.5.0",
            "_view_count": null,
            "_view_module_version": "1.2.0",
            "bar_color": null,
            "_model_module": "@jupyter-widgets/controls"
          }
        },
        "1fcd2b075d6d4a93b0883d42618de629": {
          "model_module": "@jupyter-widgets/base",
          "model_name": "LayoutModel",
          "model_module_version": "1.2.0",
          "state": {
            "_view_name": "LayoutView",
            "grid_template_rows": null,
            "right": null,
            "justify_content": null,
            "_view_module": "@jupyter-widgets/base",
            "overflow": null,
            "_model_module_version": "1.2.0",
            "_view_count": null,
            "flex_flow": null,
            "width": null,
            "min_width": null,
            "border": null,
            "align_items": null,
            "bottom": null,
            "_model_module": "@jupyter-widgets/base",
            "top": null,
            "grid_column": null,
            "overflow_y": null,
            "overflow_x": null,
            "grid_auto_flow": null,
            "grid_area": null,
            "grid_template_columns": null,
            "flex": null,
            "_model_name": "LayoutModel",
            "justify_items": null,
            "grid_row": null,
            "max_height": null,
            "align_content": null,
            "visibility": null,
            "align_self": null,
            "height": null,
            "min_height": null,
            "padding": null,
            "grid_auto_rows": null,
            "grid_gap": null,
            "max_width": null,
            "order": null,
            "_view_module_version": "1.2.0",
            "grid_template_areas": null,
            "object_position": null,
            "object_fit": null,
            "grid_auto_columns": null,
            "margin": null,
            "display": null,
            "left": null
          }
        },
        "538214cdc26843479a23d8688a265b0e": {
          "model_module": "@jupyter-widgets/controls",
          "model_name": "DescriptionStyleModel",
          "model_module_version": "1.5.0",
          "state": {
            "_view_name": "StyleView",
            "_model_name": "DescriptionStyleModel",
            "description_width": "",
            "_view_module": "@jupyter-widgets/base",
            "_model_module_version": "1.5.0",
            "_view_count": null,
            "_view_module_version": "1.2.0",
            "_model_module": "@jupyter-widgets/controls"
          }
        },
        "33fb0a8def3e4c0589872540c2f2ac80": {
          "model_module": "@jupyter-widgets/base",
          "model_name": "LayoutModel",
          "model_module_version": "1.2.0",
          "state": {
            "_view_name": "LayoutView",
            "grid_template_rows": null,
            "right": null,
            "justify_content": null,
            "_view_module": "@jupyter-widgets/base",
            "overflow": null,
            "_model_module_version": "1.2.0",
            "_view_count": null,
            "flex_flow": null,
            "width": null,
            "min_width": null,
            "border": null,
            "align_items": null,
            "bottom": null,
            "_model_module": "@jupyter-widgets/base",
            "top": null,
            "grid_column": null,
            "overflow_y": null,
            "overflow_x": null,
            "grid_auto_flow": null,
            "grid_area": null,
            "grid_template_columns": null,
            "flex": null,
            "_model_name": "LayoutModel",
            "justify_items": null,
            "grid_row": null,
            "max_height": null,
            "align_content": null,
            "visibility": null,
            "align_self": null,
            "height": null,
            "min_height": null,
            "padding": null,
            "grid_auto_rows": null,
            "grid_gap": null,
            "max_width": null,
            "order": null,
            "_view_module_version": "1.2.0",
            "grid_template_areas": null,
            "object_position": null,
            "object_fit": null,
            "grid_auto_columns": null,
            "margin": null,
            "display": null,
            "left": null
          }
        }
      }
    }
  },
  "cells": [
    {
      "cell_type": "markdown",
      "metadata": {
        "id": "view-in-github",
        "colab_type": "text"
      },
      "source": [
        "<a href=\"https://colab.research.google.com/github/saurabh1mohite/TDVR/blob/main/Data2Graph2Sents.ipynb\" target=\"_parent\"><img src=\"https://colab.research.google.com/assets/colab-badge.svg\" alt=\"Open In Colab\"/></a>"
      ]
    },
    {
      "cell_type": "code",
      "metadata": {
        "id": "SSG_GSjNGr68"
      },
      "source": [
        "import os\n",
        "import json\n",
        "import glob\n",
        "import hashlib\n",
        "import pandas as pd\n",
        "import networkx as nx\n",
        "from tqdm import tqdm\n",
        "from joblib import Parallel, delayed\n",
        "# from param_parser import parameter_parser\n",
        "from gensim.models.doc2vec import Doc2Vec, TaggedDocument"
      ],
      "execution_count": null,
      "outputs": []
    },
    {
      "cell_type": "code",
      "metadata": {
        "id": "DZb93OwEKYV_"
      },
      "source": [
        "# !git clone https://github.com/benedekrozemberczki/graph2vec.git"
      ],
      "execution_count": null,
      "outputs": []
    },
    {
      "cell_type": "code",
      "metadata": {
        "id": "pMCjPS4eGu56"
      },
      "source": [
        "class WeisfeilerLehmanMachine:\n",
        "    \"\"\"\n",
        "    Weisfeiler Lehman feature extractor class.\n",
        "    \"\"\"\n",
        "    def __init__(self, graph, features, iterations):\n",
        "        \"\"\"\n",
        "        Initialization method which also executes feature extraction.\n",
        "        :param graph: The networkx graph object.\n",
        "        :param features: Feature hash table.\n",
        "        :param iterations: Number of Weisfeiler Lehman iterations.\n",
        "        \"\"\"\n",
        "        self.iterations = iterations\n",
        "        self.graph = graph\n",
        "        self.features = features\n",
        "        self.nodes = self.graph.nodes()\n",
        "        self.extracted_features = [str(v) for k, v in features.items()]\n",
        "        self.do_recursions()\n",
        "\n",
        "    def do_a_recursion(self):\n",
        "        \"\"\"\n",
        "        The method does a single WL recursion.\n",
        "        :return new_features: The hash table with extracted WL features.\n",
        "        \"\"\"\n",
        "        new_features = {}\n",
        "        for node in self.nodes:\n",
        "            nebs = self.graph.neighbors(node)\n",
        "            degs = [self.features[neb] for neb in nebs]\n",
        "            features = [str(self.features[node])]+sorted([str(deg) for deg in degs])\n",
        "            features = \"_\".join(features)\n",
        "            hash_object = hashlib.md5(features.encode())\n",
        "            hashing = hash_object.hexdigest()\n",
        "            new_features[node] = hashing\n",
        "        self.extracted_features = self.extracted_features + list(new_features.values())\n",
        "        return new_features\n",
        "\n",
        "    def do_recursions(self):\n",
        "        \"\"\"\n",
        "        The method does a series of WL recursions.\n",
        "        \"\"\"\n",
        "        for _ in range(self.iterations):\n",
        "            self.features = self.do_a_recursion()"
      ],
      "execution_count": null,
      "outputs": []
    },
    {
      "cell_type": "code",
      "metadata": {
        "id": "ImrUYupaGynz"
      },
      "source": [
        "def path2name(path):\n",
        "    base = os.path.basename(path)\n",
        "    return os.path.splitext(base)[0]\n",
        "\n",
        "def dataset_reader(path):\n",
        "    \"\"\"\n",
        "    Function to read the graph and features from a json file.\n",
        "    :param path: The path to the graph json.\n",
        "    :return graph: The graph object.\n",
        "    :return features: Features hash table.\n",
        "    :return name: Name of the graph.\n",
        "    \"\"\"\n",
        "    name = path2name(path)\n",
        "    data = json.load(open(path))\n",
        "    graph = nx.from_edgelist(data[\"edges\"])\n",
        "\n",
        "    if \"features1\" in data.keys():\n",
        "        features = data[\"features\"]\n",
        "    else:\n",
        "        features = dict(graph.degree(graph.nodes))\n",
        "\n",
        "    # features = {int(k): v for k, v in features.items()}\n",
        "    return graph, features, name\n",
        "\n",
        "def feature_extractor(path, rounds):\n",
        "    \"\"\"\n",
        "    Function to extract WL features from a graph.\n",
        "    :param path: The path to the graph json.\n",
        "    :param rounds: Number of WL iterations.\n",
        "    :return doc: Document collection object.\n",
        "    \"\"\"\n",
        "    graph, features, name = dataset_reader(path)\n",
        "    machine = WeisfeilerLehmanMachine(graph, features, rounds)\n",
        "    doc = TaggedDocument(words=machine.extracted_features, tags=[\"g_\" + name])\n",
        "    return doc\n",
        "\n",
        "def save_embedding(output_path, model, files, dimensions):\n",
        "    \"\"\"\n",
        "    Function to save the embedding.\n",
        "    :param output_path: Path to the embedding csv.\n",
        "    :param model: The embedding model object.\n",
        "    :param files: The list of files.\n",
        "    :param dimensions: The embedding dimension parameter.\n",
        "    \"\"\"\n",
        "    out = []\n",
        "    for f in files:\n",
        "        identifier = path2name(f)\n",
        "        out.append([identifier] + list(model.docvecs[\"g_\"+identifier]))\n",
        "    column_names = [\"type\"]+[\"x_\"+str(dim) for dim in range(dimensions)]\n",
        "    out = pd.DataFrame(out, columns=column_names)\n",
        "    out = out.sort_values([\"type\"])\n",
        "    out.to_csv(output_path, index=None)\n",
        "\n",
        "def main(args):\n",
        "    \"\"\"\n",
        "    Main function to read the graph list, extract features.\n",
        "    Learn the embedding and save it.\n",
        "    :param args: Object with the arguments.\n",
        "    \"\"\"\n",
        "    graphs = glob.glob(os.path.join(args['input_path'], \"*.json\"))\n",
        "    print(\"\\nFeature extraction started.\\n\")\n",
        "    # document_collections = Parallel(n_jobs=4)(delayed(feature_extractor)(g, 2) for g in tqdm(graphs))\n",
        "    document_collections = [feature_extractor(g, 2) for g in tqdm(graphs)]\n",
        "    print(\"\\nOptimization started.\\n\")\n",
        "    return document_collections"
      ],
      "execution_count": null,
      "outputs": []
    },
    {
      "cell_type": "code",
      "metadata": {
        "id": "NN-_AkARMwyT"
      },
      "source": [
        "from zipfile import ZipFile\n",
        "with ZipFile('/content/drive/MyDrive/NLP/Trance/JSON/data.jsonl.zip') as z:\n",
        "    z.extractall('/content')"
      ],
      "execution_count": null,
      "outputs": []
    },
    {
      "cell_type": "code",
      "metadata": {
        "id": "A3jVz-BkMyC5"
      },
      "source": [
        "!mkdir dataset"
      ],
      "execution_count": null,
      "outputs": []
    },
    {
      "cell_type": "code",
      "metadata": {
        "id": "nc2Sc_N3M31A"
      },
      "source": [
        "# gray, red, blue, green, brown, purple, cyan, and yellow.\n",
        "\n",
        "nodes = [\n",
        "         'cube',\n",
        "         'sphere',\n",
        "         'cylinder',\n",
        "\n",
        "         'small',\n",
        "         'medium',\n",
        "         'large',\n",
        "\n",
        "         'glass',\n",
        "         'rubber',\n",
        "         'metal',\n",
        "\n",
        "         'gray',\n",
        "         'red',\n",
        "         'blue',\n",
        "         'green',\n",
        "         'brown',\n",
        "         'purple',\n",
        "         'cyan',\n",
        "         'yellow',\n",
        "]\n",
        "for i in range(10):\n",
        "    nodes.insert(0, 'obj' + str(i))\n",
        "for x in range(-40, 41):\n",
        "    for y in range(-40, 41):\n",
        "        nodes.append((x, y))\n",
        "\n",
        "ids = [i for i in range(len(nodes))]\n",
        "node2ids = dict(zip(nodes, ids))\n",
        "id2nodes = dict(zip(ids, nodes))"
      ],
      "execution_count": null,
      "outputs": []
    },
    {
      "cell_type": "code",
      "metadata": {
        "colab": {
          "base_uri": "https://localhost:8080/",
          "height": 84,
          "referenced_widgets": [
            "edf07d73281f498ea919d930de75427f",
            "c9f38559128346ba8eb106372259b7c6",
            "38b2b7ab38af446db311b4d88231e42e",
            "38b3d1dc51e34ce4b2d745439b328e73",
            "f43a51732c2049cd9abaf2e02b92a6c1",
            "c96a2d43f8fb464d8b08d85f881e76ca",
            "1018ae0c24084aa5a82de659a123b5b7",
            "15c8e7c327a3406b92e5439a9212ebed",
            "64dbfae27ba04e568505c1eff519a427",
            "f3e0182ca60d41a6b2f23429f552c13b",
            "8c8719f3d83a4cd0b27974f1dae729d5"
          ]
        },
        "id": "wAT_8ZdqM33y",
        "outputId": "e2321617-978c-4fcb-89b1-8b8679148ca6"
      },
      "source": [
        "from tqdm.notebook import tqdm\n",
        "import json\n",
        "import networkx as nx\n",
        "ctr = 0\n",
        "predicted_transformations = []\n",
        "actual_transformations = []\n",
        "factorials = {}\n",
        "\n",
        "# 'transformation': [{'attr': 'color',\n",
        "#    'obj_idx': 2,\n",
        "#    'options': ['cyan'],\n",
        "#    'val': 'cyan'},\n",
        "#   {'attr': 'position',\n",
        "#    'obj_idx': 2,\n",
        "#    'options': [['behind', 2]],\n",
        "#    'type': 'inner',\n",
        "#    'val': ['behind', 2]},\n",
        "#   {'attr': 'color', 'obj_idx': 4, 'options': ['brown'], 'val': 'brown'}]}\n",
        "\n",
        "\n",
        "num_lines = sum(1 for line in open('/content/data.jsonl', 'r'))\n",
        "stop_point = int(num_lines* .06)\n",
        "transformations = {}\n",
        "transformation_sents = []\n",
        "with open('/content/data.jsonl', 'r') as f:\n",
        "    for line in tqdm(f, total=stop_point):\n",
        "        # print(line)\n",
        "        entry = json.loads(line)\n",
        "        data = {\n",
        "            'init_state': entry['states'][0]['objects'],\n",
        "            'init_image_file': entry['states'][0]['images']['Camera_Center'],\n",
        "            'final_state': entry['states'][1]['objects'],\n",
        "            'final_image_file': entry['states'][1]['images']['Camera_Center'],\n",
        "            'transformation': entry['transformations']\n",
        "        }\n",
        "        # print(entry['states'][0]['objects'])\n",
        "        # break\n",
        "        transformation_edges = []\n",
        "        sent = ''\n",
        "        for transformation in data['transformation']:\n",
        "            if transformation['attr'] == 'position':\n",
        "                sent += 'move ' + str(transformation['obj_idx']) + ' towards ' + transformation['val'][0] + ' by ' + str(transformation['val'][1]) + ' steps '\n",
        "            if transformation['attr'] == 'color':\n",
        "                sent += 'change color of ' + str(transformation['obj_idx']) + ' to ' + transformation['val'] + ' '\n",
        "            if transformation['attr'] == 'shape':\n",
        "                sent += 'change shape of ' + str(transformation['obj_idx']) + ' to ' + transformation['val'] + ' '\n",
        "            if transformation['attr'] == 'material':\n",
        "                sent += 'change material of ' + str(transformation['obj_idx']) + ' to ' + transformation['val'] + ' '\n",
        "            currObj = entry['states'][0]['objects'][transformation['obj_idx']]\n",
        "            if transformation['attr'] == 'position':\n",
        "                transformation_edges.append([node2ids['obj'+str(transformation['obj_idx'])], node2ids[tuple(currObj['position'])]])\n",
        "            else:\n",
        "                transformation_edges.append([node2ids['obj'+str(transformation['obj_idx'])], node2ids[currObj[transformation['attr']]]])\n",
        "            if transformation['attr'] == 'position':\n",
        "                val = transformation['val']\n",
        "                if val[0] == 'behind':\n",
        "                    newPos = list(map(sum, zip(tuple(currObj['position']) , (val[1]*10, 0))))\n",
        "                    flag = 0\n",
        "                elif val[0] == 'front':\n",
        "                    newPos = list(map(sum, zip(tuple(currObj['position']) , (-val[1]*10, 0))))\n",
        "                    flag = 1\n",
        "                elif val[0] == 'right':\n",
        "                    newPos = list(map(sum, zip(tuple(currObj['position']) , (0, val[1]*10))))\n",
        "                    flag = 2\n",
        "                elif val[0] == 'left':\n",
        "                    newPos = list(map(sum, zip(tuple(currObj['position']) , (0, -val[1]*10))))\n",
        "                    flag = 3\n",
        "                elif val[0] == 'behind-left':\n",
        "                    newPos = list(map(sum, zip(tuple(currObj['position']) , (val[1]*10, -val[1]*10))))\n",
        "                    flag = 4\n",
        "                elif val[0] == 'behind-right':\n",
        "                    newPos = list(map(sum, zip(tuple(currObj['position']) , (val[1]*10, val[1]*10))))\n",
        "                    flag = 5\n",
        "                elif val[0] == 'front-left':\n",
        "                    newPos = list(map(sum, zip(tuple(currObj['position']) , (-val[1]*10, -val[1]*10))))\n",
        "                    flag = 6\n",
        "                elif val[0] == 'front-right':\n",
        "                    newPos = list(map(sum, zip(tuple(currObj['position']) , (-val[1]*10, val[1]*10))))\n",
        "                    flag = 7\n",
        "                if newPos[0] > 40:\n",
        "                    newPos[0] = 40\n",
        "                    print(newPos, flag)\n",
        "                elif newPos[0] < -40:\n",
        "                    print(newPos, flag)\n",
        "                    newPos[0] = -40\n",
        "                if newPos[1] > 40:\n",
        "                    print(newPos, flag)\n",
        "                    newPos[1] = 40\n",
        "                elif newPos[1] < -40:\n",
        "                    print(newPos, flag)\n",
        "                    newPos[1] = -40\n",
        "                # print(newPos)\n",
        "                newPos = tuple(newPos)\n",
        "                transformation_edges.append([node2ids['obj'+str(transformation['obj_idx'])], node2ids[newPos]])\n",
        "            else:\n",
        "                transformation_edges.append([node2ids['obj'+str(transformation['obj_idx'])], node2ids[transformation['val']]])\n",
        "        transformation_sents.append(sent)\n",
        "        init_edges = []\n",
        "        for i in range(len(data['init_state'])):\n",
        "            entry = data['init_state'][i]\n",
        "            for k, v in entry.items():\n",
        "                if k == 'position':\n",
        "                    init_edges.append([node2ids['obj'+str(i)], node2ids[tuple(entry['position'])]])\n",
        "                else:\n",
        "                    init_edges.append([node2ids['obj'+str(i)], node2ids[entry[k]]])\n",
        "        \n",
        "        init_dict = {'edges': init_edges}\n",
        "\n",
        "        # init_features = {}\n",
        "        # for i in init_edges:\n",
        "        #     if i[0] in init_features.keys():\n",
        "        #         init_features[i[0]] += 1            \n",
        "        #     else:\n",
        "        #         init_features[i[0]] = 1\n",
        "        #     if i[1] in init_features.keys():\n",
        "        #         init_features[i[1]] += 1            \n",
        "        #     else:\n",
        "        #         init_features[i[1]] = 1\n",
        "\n",
        "        # init_features = dict(zip([str(i) for i in init_features.keys()], [str(i) for i in init_features.values()]))\n",
        "\n",
        "        final_edges = []\n",
        "        for i in range(len(data['final_state'])):\n",
        "            entry = data['final_state'][i]\n",
        "            for k, v in entry.items():\n",
        "                if k == 'position':\n",
        "                    init_edges.append([node2ids['obj'+str(i)], node2ids[tuple(entry['position'])]])\n",
        "                else:\n",
        "                    final_edges.append([node2ids['obj'+str(i)], node2ids[entry[k]]])\n",
        "        final_dict = {'edges': final_edges}\n",
        "\n",
        "        # final_features = {}\n",
        "        # for i in final_edges:\n",
        "        #     if i[0] in final_features.keys():\n",
        "        #         final_features[i[0]] += 1\n",
        "        #     else:\n",
        "        #         final_features[i[0]] = 1\n",
        "        #     if i[1] in final_features.keys():\n",
        "        #         final_features[i[1]] += 1\n",
        "        #     else:\n",
        "        #         final_features[i[1]] = 1\n",
        "    \n",
        "        # final_features = dict(zip([str(i) for i in final_features.keys()], [str(i) for i in final_features.values()]))\n",
        "        \n",
        "        # init_dict['features'] = init_features\n",
        "        # final_dict['features'] = final_features\n",
        "        transformation_dict = {'edges': transformation_edges}\n",
        "        with open('/content/dataset/init-' + str(ctr) + '.json', 'w') as fp:\n",
        "            json.dump(init_dict, fp)\n",
        "        with open('/content/dataset/final-' + str(ctr) + '.json', 'w') as fp:\n",
        "            json.dump(final_dict, fp)\n",
        "        with open('/content/dataset/transformation-'+str(ctr)+'.json', 'w') as fp:\n",
        "            json.dump(transformation_dict, fp)\n",
        "        ctr += 1\n",
        "        if ctr == stop_point:\n",
        "            break\n",
        "with open('/content/transformation_sents.json', 'w') as fp:\n",
        "    json.dump(transformation_sents, fp)"
      ],
      "execution_count": null,
      "outputs": [
        {
          "output_type": "display_data",
          "data": {
            "application/vnd.jupyter.widget-view+json": {
              "model_id": "edf07d73281f498ea919d930de75427f",
              "version_minor": 0,
              "version_major": 2
            },
            "text/plain": [
              "  0%|          | 0/31800 [00:00<?, ?it/s]"
            ]
          },
          "metadata": {}
        },
        {
          "output_type": "stream",
          "name": "stdout",
          "text": [
            "[40, 55] 5\n",
            "[13, 45] 7\n"
          ]
        }
      ]
    },
    {
      "cell_type": "code",
      "metadata": {
        "colab": {
          "base_uri": "https://localhost:8080/",
          "height": 35
        },
        "id": "izIU-OnYnkbm",
        "outputId": "165a7718-288e-4acf-a9bd-a7dbddc63498"
      },
      "source": [
        "transformation_sents[0]"
      ],
      "execution_count": null,
      "outputs": [
        {
          "output_type": "execute_result",
          "data": {
            "application/vnd.google.colaboratory.intrinsic+json": {
              "type": "string"
            },
            "text/plain": [
              "'change color of 2 to cyan move 2 towards behind by 2 steps change color of 4 to brown '"
            ]
          },
          "metadata": {},
          "execution_count": 21
        }
      ]
    },
    {
      "cell_type": "code",
      "metadata": {
        "colab": {
          "base_uri": "https://localhost:8080/",
          "height": 153,
          "referenced_widgets": [
            "70ddbbecec744cd5b2cb37860caf83e2",
            "8c9a2ce8291b4903a94aba50198b1e9a",
            "70eaa8f672134622bf2e44be187818ff",
            "cdc179b30ca34e9da380b213a7a2e268",
            "1a53adb9ec0c4aa3af7fbf0fcf22640b",
            "3800ae327bad484abdaf6c8c9858cfdb",
            "4cded582f74243ce888e03a01f28e964",
            "d9377cb1bbe14b8aa67b114c4ff58e23",
            "4fb863f5424c465792a4b262c63f979a",
            "a2f24ff7e4cd4a82acee5af6d037b97e",
            "96d7fbd90d574bb9b266774e7bf71551"
          ]
        },
        "id": "42jbrsuSJKWb",
        "outputId": "670efc60-6bfc-40fe-e995-bb4a04ac0e8b"
      },
      "source": [
        "args = {\n",
        "    'input_path': '/content/dataset',\n",
        "}\n",
        "document_collections = main(args)"
      ],
      "execution_count": null,
      "outputs": [
        {
          "output_type": "stream",
          "name": "stdout",
          "text": [
            "\n",
            "Feature extraction started.\n",
            "\n"
          ]
        },
        {
          "output_type": "display_data",
          "data": {
            "application/vnd.jupyter.widget-view+json": {
              "model_id": "70ddbbecec744cd5b2cb37860caf83e2",
              "version_minor": 0,
              "version_major": 2
            },
            "text/plain": [
              "  0%|          | 0/95400 [00:00<?, ?it/s]"
            ]
          },
          "metadata": {}
        },
        {
          "output_type": "stream",
          "name": "stdout",
          "text": [
            "\n",
            "Optimization started.\n",
            "\n"
          ]
        }
      ]
    },
    {
      "cell_type": "code",
      "metadata": {
        "id": "ibHto4tRKCNz"
      },
      "source": [
        "d = {}\n",
        "temp_dataset = {}\n",
        "for i in range(len(document_collections)):\n",
        "    s = document_collections[i].tags[0].split('-')\n",
        "    if int(s[1]) in temp_dataset.keys():\n",
        "        temp_dataset[int(s[1])][s[0]] = ' '.join(document_collections[i].words)\n",
        "    else:\n",
        "        temp_dataset[int(s[1])] = {}\n",
        "        temp_dataset[int(s[1])][s[0]] = ' '.join(document_collections[i].words)\n",
        "        temp_dataset[int(s[1])]['transformation'] = transformation_sents[int(s[1])]"
      ],
      "execution_count": null,
      "outputs": []
    },
    {
      "cell_type": "code",
      "metadata": {
        "colab": {
          "base_uri": "https://localhost:8080/"
        },
        "id": "1jBQpZ9j66Sw",
        "outputId": "338f9c15-9d5b-433e-c5c6-5e24e7032321"
      },
      "source": [
        "temp_dataset[0]"
      ],
      "execution_count": null,
      "outputs": [
        {
          "output_type": "execute_result",
          "data": {
            "text/plain": [
              "{'g_final': '4 2 5 4 2 4 1 6 4 1 4 4 4 3 4 2 4 2 4 1 2 4 4 1 4 9101c9722b4fe12f810a5e90fd7db826 0b053511e0180e19cb9f472b1726fb0b 44502c72f4d0fa22832333a7efa43831 dc179b89ab1d21903def8758075b43ed 0b053511e0180e19cb9f472b1726fb0b 0ca741c38743e64f764e31b46d6ba4f7 34b8a5e9772cd73daba26c68a209127f 6a6b0a90457388b86ba4cab035ba8540 6757b1787ca8698d4378a227021bcd47 34b8a5e9772cd73daba26c68a209127f dc179b89ab1d21903def8758075b43ed dc179b89ab1d21903def8758075b43ed f44491e89693d240390c8e681c5822c0 1e736e30f50dfe42581bdf1c20181487 8c89d5843c82b9c4046d441b18d8ecea 0b053511e0180e19cb9f472b1726fb0b c8200661feb7927861f5a7f5f6b51e1d 0b053511e0180e19cb9f472b1726fb0b 267b63deca7e543f4bf71d06d36f3a9f 34b8a5e9772cd73daba26c68a209127f 0b053511e0180e19cb9f472b1726fb0b 8c89d5843c82b9c4046d441b18d8ecea e23527305d5ae15eb107f46da3ff53a1 34b8a5e9772cd73daba26c68a209127f 8c89d5843c82b9c4046d441b18d8ecea 9c711194feab951b18a086aa71711cf3 19dbf3ba32064563fd077b1a75a7a4bb 487dd6dd4b655c8d4180a83db48efbc1 73028695b7df9f6d844f3476866e4a96 e150982b422e9d530c90542aabb3bf51 51f679df8f993fd259704c8c39f62a17 1658fcf9084cd47842bab455496ab3f5 496a698890ab991dcdee4f0b8d8c0acc 8f73cc50b2f7598e4f193fc6e81e1891 f9241292b760207900584a5999acf4b7 4dc2226747558eba8f0081f5c99bb14b 4dc2226747558eba8f0081f5c99bb14b d6ce246c3ddc6293435db70ea2de6bb5 d5cca03cba0a22cb849efd309bd47a56 e8acb424fafcec58bc4d14855da8372e 5ab15e579dcc71359c75a708b9c8ab2c e400a926239a77be434218ce4c5acba2 8be9b6909ecf82e3f1377437b3e06618 bf41278cce5562f9cfca81af58ea8a8e 8b5c7cf340e74e66141ed065ee20684f 31ecf97ad1d1a7038ec29528eac47c2c e8acb424fafcec58bc4d14855da8372e 192ba4c105607f56dd0896f1f870e410 58ee17f7607d2deb5fbeaa98c249287d e8acb424fafcec58bc4d14855da8372e',\n",
              " 'g_init': '5 2 5 4 2 1 5 1 6 1 6 2 4 4 1 5 4 1 5 1 5 2 1 5 1 2 1 5 1 5 1 5 1 1 1 11adababfbcca32388069f3ebd64ea2c 036ba2f95c52c2395335611e9aff9766 b03cce669c6980f7ce1d46da69c9bb2f da596c60d37e8a0dce8fa70ee4867c3a ae41c6e0c09dccc0a7d0fa84b0fd6a9d 2cb17e69baebaeed67190ad729bb2601 d8174f71ab03814bf8d169c30b6cbefe 2cb17e69baebaeed67190ad729bb2601 29f06e7f2037c193ee3afe0f9cf687b4 2cb17e69baebaeed67190ad729bb2601 5338b3ed10426e39bf6ae4b3bbc90d6f ae41c6e0c09dccc0a7d0fa84b0fd6a9d e2166250e283a08b7aed67a9490e993d e2166250e283a08b7aed67a9490e993d 291dd475d0224126a68550d7c406f3b1 c93f74278d42e0222a02ae8d309f7522 da596c60d37e8a0dce8fa70ee4867c3a 2cb17e69baebaeed67190ad729bb2601 0378157923c7994dd5e01afed261ad4d 2cb17e69baebaeed67190ad729bb2601 e6ea46ed99fcd234cd8ed1cbb32ef8aa 036ba2f95c52c2395335611e9aff9766 2cb17e69baebaeed67190ad729bb2601 c02e6dcfe9c6b9c2fc0bd4011ca026b2 2cb17e69baebaeed67190ad729bb2601 036ba2f95c52c2395335611e9aff9766 2cb17e69baebaeed67190ad729bb2601 78fd9e32716dc9c568e9e3f0841571ae 2cb17e69baebaeed67190ad729bb2601 abf5fd1a335fc162c9cad6d5e11cd489 2cb17e69baebaeed67190ad729bb2601 eee7f1d38c4f9155ca995041942978db 2cb17e69baebaeed67190ad729bb2601 2cb17e69baebaeed67190ad729bb2601 291dd475d0224126a68550d7c406f3b1 165a0930bcc90cbc29bfa979ed7f0a8f d058e5087bdbf72748a9dfde9c087a9b bb3392fad83df23e4c3ce829122c56e1 16cde0bc88d383177be2d94018ae6062 fd584aa71f886222eb4d43300184176c 5e89f1729340c7909b09d725544c3ce3 fc51f92f7294e0ccbe618d5d6cfd7d5a c970f33dd4a1b98c233240cb87100cb1 c00de2636a3ffb9d408e16352e670e13 c970f33dd4a1b98c233240cb87100cb1 1cab79ce1d2c3716b1bfbf60eac1c03a efed2ca8d12eeb0515cc8d90d7086573 534b97bfff5af4e01d65bd46f11698e3 534b97bfff5af4e01d65bd46f11698e3 189b050a5b9feaede29feb70043f47fe b0400d452b74cd766fec1ef7a0b82ec0 0695a5bad9615b6fa61102e7a3eeb133 c9c0eb097ef01b2bbe2b83e22d892437 92806a7c5c69639f12e94024ab29a1bc 9e200539cb8cd137164b13d9ed037784 0381d0cc734bf18439ad1febcdbdd463 1d2de2f650dd5d0eaa1b7d2caa0ed168 041052ff5895271710d8582119fce154 69996b87d006a115102c2c9ddce28d29 f843e270832044b0a7507bec9ce9992f 20a43807fd99519c859e0aedaf03e586 f843e270832044b0a7507bec9ce9992f 1e72e2d913d6e0fc2a9f56c825c4b266 7159a73ea5c2fe6a0f8170ec41fbd10b a8b2a9086c1ce06d6c17f5be6f8e732a ec69f99dbe638a91a1293649fa98fc72 06a14a630197613f2867ecea99c0a273 adf7368ed29f1069aee725413e1740b6 adf7368ed29f1069aee725413e1740b6 189b050a5b9feaede29feb70043f47fe',\n",
              " 'g_transformation': '4 1 1 1 1 2 1 1 7135edf08d46749d12462a578456aeef 34b8a5e9772cd73daba26c68a209127f 34b8a5e9772cd73daba26c68a209127f 34b8a5e9772cd73daba26c68a209127f 34b8a5e9772cd73daba26c68a209127f a6471b147e51f4d317e48cc16ab908ed ab35e84a215f0f711ed629c2abb9efa0 ab35e84a215f0f711ed629c2abb9efa0 ad3c716667d826a3c0574bb153606ff0 07be6946c83b156bc712d45c0f4e9595 07be6946c83b156bc712d45c0f4e9595 07be6946c83b156bc712d45c0f4e9595 07be6946c83b156bc712d45c0f4e9595 03ee50de8f77d3380dd5c8954e3ea594 379e2a0e1ed586cc8e3d849ce2f661bc 379e2a0e1ed586cc8e3d849ce2f661bc',\n",
              " 'transformation': 'change color of 2 to cyan move 2 towards behind by 2 steps change color of 4 to brown '}"
            ]
          },
          "metadata": {},
          "execution_count": 25
        }
      ]
    },
    {
      "cell_type": "code",
      "metadata": {
        "colab": {
          "base_uri": "https://localhost:8080/"
        },
        "id": "9FZkUijTL6C3",
        "outputId": "2fbd4aaf-01d9-4d6f-dbee-bdfbc15c22dd"
      },
      "source": [
        "temp1 = []\n",
        "for k, v in temp_dataset.items():\n",
        "    temp1.append(v)\n",
        "temp1[0]"
      ],
      "execution_count": null,
      "outputs": [
        {
          "output_type": "execute_result",
          "data": {
            "text/plain": [
              "{'g_final': '4 1 4 4 3 4 2 3 5 3 4 1 4 4 2 1 4 3 4 3 4 4 4 4 1 38a8cf581986627f062b87819e90938f 34b8a5e9772cd73daba26c68a209127f dc179b89ab1d21903def8758075b43ed dc179b89ab1d21903def8758075b43ed 1e736e30f50dfe42581bdf1c20181487 3945568d57088eeb68923b91b5f4fdfc 0b053511e0180e19cb9f472b1726fb0b 1e736e30f50dfe42581bdf1c20181487 44502c72f4d0fa22832333a7efa43831 1e736e30f50dfe42581bdf1c20181487 be3f508cb041c6f8d1868798c1fa5622 34b8a5e9772cd73daba26c68a209127f dc179b89ab1d21903def8758075b43ed 6757b1787ca8698d4378a227021bcd47 0b053511e0180e19cb9f472b1726fb0b 34b8a5e9772cd73daba26c68a209127f 833b96ad41c4b55dc1b0da7e2b5fada2 1e736e30f50dfe42581bdf1c20181487 89af402e42075dcd347caa4f937e31b7 1e736e30f50dfe42581bdf1c20181487 3945568d57088eeb68923b91b5f4fdfc 26798bf267ec9119935f4f6037db99ff cae11adfc356c3403a4803f6ab37a9d6 38a8cf581986627f062b87819e90938f 34b8a5e9772cd73daba26c68a209127f 26bbb4552413b2d26862563cf89ce7a6 27ef3b7d79fcd676065670f21b09e65d 1b381846845889177c690a5c8ab71d83 db374bef6f449dfcb3f97791076feb7d acbaa0f8c8cb56038d7d1a597fd5b5ab 547ade4425af5afd038e680ee48eb8ee a06050f4498107b69dc33e26c503f3b2 020864022ad9de637153b842b9887fae 7c86da7429b620c5a3965b33546b3056 020864022ad9de637153b842b9887fae ece1f9382427b84cc5ea1fb1d88252b7 a14ead340f938803ac7da6499df6178e 1951584554913f3f74cf7783fffd71ce 8f73cc50b2f7598e4f193fc6e81e1891 31d5835e075981628d51b67ddd094d33 f9241292b760207900584a5999acf4b7 f7c29a687d11c6cd4e7e0d0282cbe260 8c85e96f1e4a61ff25b5a99e418c3c04 3ff6f05dd0fce12e3fe965a36251e50e fa0ed185cfed8706ddf3dd8bcfc18b57 547ade4425af5afd038e680ee48eb8ee a080f2cd0060b752940fd9647699bdcb 13bcac8b9f4651df7b7abecb1e228d43 26bbb4552413b2d26862563cf89ce7a6 27ef3b7d79fcd676065670f21b09e65d',\n",
              " 'g_init': '6 1 4 4 3 1 5 2 3 5 3 1 5 1 4 1 5 2 1 1 5 3 1 5 3 1 5 1 5 1 5 1 5 1 1 1 3c4aca3fe4f42d1e411a568910902020 291dd475d0224126a68550d7c406f3b1 e2166250e283a08b7aed67a9490e993d e2166250e283a08b7aed67a9490e993d b27ad407612d3f127d8731129d892483 291dd475d0224126a68550d7c406f3b1 d965015a6c9ab8dc354ec344cbc80ed0 036ba2f95c52c2395335611e9aff9766 77e4d37e7ba5fecb1e1d6c96398f216d b03cce669c6980f7ce1d46da69c9bb2f 77e4d37e7ba5fecb1e1d6c96398f216d 2cb17e69baebaeed67190ad729bb2601 f5819d7e75f3a632569698d8ae3726c0 2cb17e69baebaeed67190ad729bb2601 da596c60d37e8a0dce8fa70ee4867c3a 2cb17e69baebaeed67190ad729bb2601 a630e1cbeb86285f9c4ef31af22edb71 036ba2f95c52c2395335611e9aff9766 2cb17e69baebaeed67190ad729bb2601 2cb17e69baebaeed67190ad729bb2601 e091e708f429c88c0cd4cd4a93e1779e 77e4d37e7ba5fecb1e1d6c96398f216d 2cb17e69baebaeed67190ad729bb2601 31150f8d1688dca99a59142c5cfd4ca5 77e4d37e7ba5fecb1e1d6c96398f216d 2cb17e69baebaeed67190ad729bb2601 d965015a6c9ab8dc354ec344cbc80ed0 2cb17e69baebaeed67190ad729bb2601 e974edb261d8d9cc87bf4c96ed4bf8f3 2cb17e69baebaeed67190ad729bb2601 d049b52d2f8988d53d9dac34912f2df8 2cb17e69baebaeed67190ad729bb2601 bcc9a6a54f77cc6d99139e3afce76c4d 2cb17e69baebaeed67190ad729bb2601 2cb17e69baebaeed67190ad729bb2601 291dd475d0224126a68550d7c406f3b1 b0f8f19085b0f5b0ec004c3cba164b95 82d1f70c489dbb133e3f927c406518cc aa26e539ed88a2570ff6d368b39bc802 bfb92f8aa85287efbff4d7bfa12118f8 1008c165e07364552c4a073ef8f68887 82d1f70c489dbb133e3f927c406518cc 237d6452c2546b0080ec1f5d5d0563e4 c8fe0ca0ace53d86099cddd123077c61 6e252b9b1f8ff6cef506e85d2c3eabba da526e3029d06e9ba738d3c6e7f7c443 6e252b9b1f8ff6cef506e85d2c3eabba 4cfb8f4b473baabd1417edf8363f91f8 3063b5bcd740966661b99b648e1a0729 f35d19ccd9978b30c8a6cde90d1973e4 8b40411fabbcfa89af6f640f9b1b32d7 f35d19ccd9978b30c8a6cde90d1973e4 b5af09e9291bb3326547b383b3db4d7b 5ef7b3ca10e77af0ca5d786dd076259b cbb85d002d9596615fe3a7e98fe042a2 cbb85d002d9596615fe3a7e98fe042a2 7d178604812105884146e19767ad1cde 797fca81d06db5e10ed3ccd10c2813a3 d68ba4cd3b10700c9a5816a04d0ee2f5 ae154027af7f9aa4e176f628ff4613e7 26752525e692894f824d2b48c9a03753 2f2e8ef02610c9ba583c3cba3dd275e2 903544510a83d7a4e24efa5f2fc21641 4cfb8f4b473baabd1417edf8363f91f8 e11de35520a133427a9c0e2e9d8d7b97 01da4d48cef5193d86f6102f179762c1 13f7418bd7c25f139d7b3014af3e9bea 58a1600e5dd5a339aa3c62f47f9ca3b8 86f00feeab15ee98488328cc66962478 732ae55cd42dd499e45b9e163095b253 732ae55cd42dd499e45b9e163095b253 82d1f70c489dbb133e3f927c406518cc',\n",
              " 'g_transformation': '2 1 1 a6471b147e51f4d317e48cc16ab908ed ab35e84a215f0f711ed629c2abb9efa0 ab35e84a215f0f711ed629c2abb9efa0 03ee50de8f77d3380dd5c8954e3ea594 379e2a0e1ed586cc8e3d849ce2f661bc 379e2a0e1ed586cc8e3d849ce2f661bc',\n",
              " 'transformation': 'move 0 towards right by 2 steps '}"
            ]
          },
          "metadata": {},
          "execution_count": 26
        }
      ]
    },
    {
      "cell_type": "code",
      "metadata": {
        "id": "XQSR8267-o5V"
      },
      "source": [
        "df = pd.read_json(json.dumps(temp1), orient='records')"
      ],
      "execution_count": null,
      "outputs": []
    },
    {
      "cell_type": "code",
      "metadata": {
        "id": "wC2HqyW1-zpr"
      },
      "source": [
        "df.to_csv('/content/drive/MyDrive/NLP/Trance/CSV/dataset.txt', header=False, index=False)"
      ],
      "execution_count": null,
      "outputs": []
    },
    {
      "cell_type": "code",
      "metadata": {
        "colab": {
          "base_uri": "https://localhost:8080/",
          "height": 66,
          "referenced_widgets": [
            "5ae6b233c0a94d82bdada43590680ac7",
            "fdc4771644604e2ca36eba782ce65bad",
            "677806b7145c4b98b3293f37b14b60d8",
            "06da6ca3e4954c44a098900883f5113e",
            "86d8456b71594b47804fa0facba343f4",
            "253926ff467d4acda5ed32b0661621b3",
            "961e60cb1fee41288afdf07313e2ad0d",
            "869151a53cb3405c93083d9eb02c9bee",
            "1fcd2b075d6d4a93b0883d42618de629",
            "538214cdc26843479a23d8688a265b0e",
            "33fb0a8def3e4c0589872540c2f2ac80"
          ]
        },
        "id": "JBQ7cu2LUuvY",
        "outputId": "135dd9a8-6077-4d40-c5fe-dbbc09ac7929"
      },
      "source": [
        "maxLen = 0\n",
        "for entry in tqdm(temp1):\n",
        "    for k, v in entry.items():\n",
        "        if len(v) > maxLen:\n",
        "            maxLen = len(v.split(' '))\n",
        "print(maxLen)"
      ],
      "execution_count": null,
      "outputs": [
        {
          "output_type": "display_data",
          "data": {
            "application/vnd.jupyter.widget-view+json": {
              "model_id": "5ae6b233c0a94d82bdada43590680ac7",
              "version_minor": 0,
              "version_major": 2
            },
            "text/plain": [
              "  0%|          | 0/31800 [00:00<?, ?it/s]"
            ]
          },
          "metadata": {}
        },
        {
          "output_type": "stream",
          "name": "stdout",
          "text": [
            "75\n"
          ]
        }
      ]
    },
    {
      "cell_type": "code",
      "metadata": {
        "id": "u8WuMfVvxxQ2"
      },
      "source": [
        ""
      ],
      "execution_count": null,
      "outputs": []
    }
  ]
}