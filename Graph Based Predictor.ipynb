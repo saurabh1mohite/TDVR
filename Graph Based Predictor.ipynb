{
 "cells": [
  {
   "cell_type": "code",
   "execution_count": 56,
   "id": "860ab565",
   "metadata": {},
   "outputs": [],
   "source": [
    "import networkx as nx\n",
    "from networkx.algorithms.operators.binary import difference, symmetric_difference\n",
    "import os\n",
    "import json\n",
    "import matplotlib.pyplot as plt\n",
    "from zipfile import ZipFile\n",
    "from tqdm.notebook import tqdm"
   ]
  },
  {
   "cell_type": "code",
   "execution_count": 59,
   "id": "be73d959",
   "metadata": {},
   "outputs": [],
   "source": [
    "def plot_graph(graph):\n",
    "        nx.draw(graph, with_labels=True,\n",
    "                node_color='skyblue', node_size=2200,\n",
    "                width=3, edge_cmap=plt.cm.OrRd,\n",
    "                arrowstyle='->',arrowsize=20,\n",
    "                font_size=10, font_weight=\"bold\",\n",
    "                pos=nx.random_layout(init, seed=13))\n",
    "        plt.show()"
   ]
  },
  {
   "cell_type": "code",
   "execution_count": 61,
   "id": "722cb2b3",
   "metadata": {},
   "outputs": [
    {
     "data": {
      "application/vnd.jupyter.widget-view+json": {
       "model_id": "22c4f02174c4417286f7cf75cbafd9b2",
       "version_major": 2,
       "version_minor": 0
      },
      "text/plain": [
       "  0%|          | 0/530000 [00:00<?, ?it/s]"
      ]
     },
     "metadata": {},
     "output_type": "display_data"
    },
    {
     "name": "stdout",
     "output_type": "stream",
     "text": [
      "['obj0']\n",
      "['obj1']\n",
      "['obj2', 'yellow', (0, -14), 'cyan', (20, -14)]\n",
      "['obj3']\n",
      "['obj4', 'blue', 'brown']\n",
      "['obj5']\n",
      "['obj6']\n",
      "['obj7']\n",
      "['obj8']\n",
      "['obj9']\n"
     ]
    }
   ],
   "source": [
    "ctr = 0\n",
    "predicted_transformations = []\n",
    "actual_transformations = []\n",
    "factorials = {}\n",
    "num_lines = sum(1 for line in open('C:/Users/Admin/Projects/Transformation Driven Visual Learning/data/data.jsonl', 'r'))\n",
    "with open('C:/Users/Admin/Projects/Transformation Driven Visual Learning/data/data.jsonl', 'r') as f:\n",
    "    for line in tqdm(f, total=num_lines):\n",
    "        # print(line)\n",
    "        entry = json.loads(line)\n",
    "        data = {\n",
    "            'init_state': entry['states'][0]['objects'],\n",
    "            'init_image_file': entry['states'][0]['images']['Camera_Center'],\n",
    "            'final_state': entry['states'][1]['objects'],\n",
    "            'final_image_file': entry['states'][1]['images']['Camera_Center'],\n",
    "            'transformation': entry['transformations']\n",
    "        }\n",
    "\n",
    "        init_state = data['init_state']\n",
    "        final_state = data['final_state']\n",
    "        n = len(init_state)\n",
    "        objects = ['obj'+str(i) for i in range(n)]\n",
    "        init_edges = []\n",
    "        final_edges = []\n",
    "\n",
    "        init = nx.DiGraph()\n",
    "        final = nx.DiGraph()\n",
    "        init = nx.DiGraph()\n",
    "        final = nx.DiGraph()\n",
    "        attributes = {'colors' : [],\n",
    "        'materials' : [],\n",
    "        'shapes' : [],\n",
    "        'sizes' : [],\n",
    "        'positions': [],\n",
    "        }\n",
    "\n",
    "        # next cell\n",
    "        nodes = []\n",
    "        for i in range(n):\n",
    "            nodes.append(init_state[i]['color'])\n",
    "            nodes.append(init_state[i]['material'])\n",
    "            nodes.append(tuple(init_state[i]['position']))\n",
    "            nodes.append(init_state[i]['shape'])\n",
    "            nodes.append(init_state[i]['size'])\n",
    "            nodes.append(final_state[i]['color'])\n",
    "            nodes.append(final_state[i]['material'])\n",
    "            nodes.append(tuple(final_state[i]['position']))\n",
    "            nodes.append(final_state[i]['shape'])\n",
    "            nodes.append(final_state[i]['size'])\n",
    "        nodes = nodes + objects\n",
    "\n",
    "        init.add_nodes_from(nodes)\n",
    "        final.add_nodes_from(nodes)\n",
    "\n",
    "\n",
    "        # init.add_nodes_from(objects)\n",
    "        # final.add_nodes_from(objects)\n",
    "\n",
    "        # next cell\n",
    "        import itertools\n",
    "        if n in factorials.keys():\n",
    "            objectSet = factorials[n]\n",
    "        else:\n",
    "            objectSet = [list(i) for i in itertools.permutations(objects)]\n",
    "            ni = len(objectSet)\n",
    "            factorials[n] = objectSet\n",
    "        # next cell\n",
    "        def edge_creator(state, id=0):\n",
    "            objects = objectSet[id]\n",
    "            edges = []\n",
    "            for i in range(n):\n",
    "                edges.append((objects[i], state[i]['shape']))\n",
    "                edges.append((objects[i], state[i]['color']))\n",
    "                edges.append((objects[i], state[i]['size']))\n",
    "                edges.append((objects[i], tuple(state[i]['position'])))\n",
    "                edges.append((objects[i], state[i]['material']))\n",
    "            return edges\n",
    "\n",
    "\n",
    "        # next cell\n",
    "        init_edges = edge_creator(init_state)\n",
    "        i = 0\n",
    "        final_edges = edge_creator(final_state)\n",
    "        init.add_edges_from(init_edges)\n",
    "        final.add_edges_from(final_edges)\n",
    "        diff = symmetric_difference(init, final)\n",
    "        minChanges = len(diff.edges())\n",
    "        final.remove_edges_from(final_edges)\n",
    "\n",
    "        bestDiffGraph = diff\n",
    "\n",
    "        for i in range(1, ni):\n",
    "            final_edges = edge_creator(final_state, i)\n",
    "            diff = symmetric_difference(init, final)\n",
    "            final.remove_edges_from(final_edges)\n",
    "            changes = len(diff.edges())\n",
    "            if minChanges > changes:\n",
    "                minChanges = changes\n",
    "                bestDiffGraph = diff\n",
    "            if minChanges <= 8:\n",
    "                break\n",
    "\n",
    "\n",
    "        # next cell\n",
    "        # nx.draw(bestDiffGraph, with_labels=True,\n",
    "        #         node_color='skyblue', node_size=2200,\n",
    "        #         width=3, edge_cmap=plt.cm.OrRd,\n",
    "        #         arrowstyle='->',arrowsize=20,\n",
    "        #         font_size=10, font_weight=\"bold\",\n",
    "        #         pos=nx.random_layout(init, seed=13))\n",
    "\n",
    "\n",
    "        # next cell\n",
    "        subGraphs = []\n",
    "        for object in objects:\n",
    "            subGraph = nx.DiGraph()\n",
    "            subGraph.add_node(object)\n",
    "            nodes = bestDiffGraph.neighbors(object)\n",
    "            for node in nodes:\n",
    "                subGraph.add_node(node)\n",
    "                subGraph.add_edge(object, node)\n",
    "            subGraphs.append(subGraph)\n",
    "        changes = []\n",
    "        for i in range(len(subGraphs)):\n",
    "            nodes = list(subGraphs[i].nodes())\n",
    "            print(nodes)\n",
    "            if len(nodes) == 3:\n",
    "                changes.append([(nodes[0], nodes[1]), (nodes[0], nodes[2])])  \n",
    "        predicted_transformations.append(changes)\n",
    "#         init.remove_edges_from(init_edges)\n",
    "#         init.remove_nodes_from(nodes)\n",
    "#         final.remove_nodes_from(nodes)\n",
    "#         print(predicted_transformations)\n",
    "        break"
   ]
  },
  {
   "cell_type": "code",
   "execution_count": null,
   "id": "f6c6a120",
   "metadata": {},
   "outputs": [],
   "source": []
  },
  {
   "cell_type": "code",
   "execution_count": 62,
   "id": "7c8c74dd",
   "metadata": {},
   "outputs": [
    {
     "name": "stdout",
     "output_type": "stream",
     "text": [
      "[[('obj4', 'blue'), ('obj4', 'brown')]]\n",
      "False\n"
     ]
    },
    {
     "data": {
      "text/plain": [
       "OutEdgeView([('obj0', 'cylinder'), ('obj0', 'gray'), ('obj0', 'small'), ('obj0', (-19, 37)), ('obj0', 'metal'), ('obj1', 'cylinder'), ('obj1', 'purple'), ('obj1', 'large'), ('obj1', (40, 40)), ('obj1', 'metal'), ('obj2', 'cube'), ('obj2', 'yellow'), ('obj2', 'small'), ('obj2', (0, -14)), ('obj2', 'glass'), ('obj3', 'cylinder'), ('obj3', 'blue'), ('obj3', 'large'), ('obj3', (-18, -2)), ('obj3', 'metal'), ('obj4', 'cube'), ('obj4', 'blue'), ('obj4', 'large'), ('obj4', (-1, 17)), ('obj4', 'glass'), ('obj5', 'cylinder'), ('obj5', 'blue'), ('obj5', 'medium'), ('obj5', (20, 24)), ('obj5', 'metal'), ('obj6', 'sphere'), ('obj6', 'blue'), ('obj6', 'large'), ('obj6', (-38, 25)), ('obj6', 'rubber'), ('obj7', 'cube'), ('obj7', 'gray'), ('obj7', 'large'), ('obj7', (24, 2)), ('obj7', 'glass'), ('obj8', 'sphere'), ('obj8', 'yellow'), ('obj8', 'medium'), ('obj8', (37, -40)), ('obj8', 'metal'), ('obj9', 'cube'), ('obj9', 'brown'), ('obj9', 'large'), ('obj9', (31, -28)), ('obj9', 'glass')])"
      ]
     },
     "execution_count": 62,
     "metadata": {},
     "output_type": "execute_result"
    }
   ],
   "source": [
    "print(changes)\n",
    "print(init.has_edge(*changes[0]))\n",
    "init.edges()"
   ]
  },
  {
   "cell_type": "code",
   "execution_count": 53,
   "id": "97fbc013",
   "metadata": {},
   "outputs": [
    {
     "data": {
      "text/plain": [
       "['obj9']"
      ]
     },
     "execution_count": 53,
     "metadata": {},
     "output_type": "execute_result"
    }
   ],
   "source": [
    "nodes"
   ]
  },
  {
   "cell_type": "code",
   "execution_count": 28,
   "id": "5fbc152f",
   "metadata": {},
   "outputs": [],
   "source": [
    "with open('C:/Users/Admin/Projects/Transformation Driven Visual Learning/predicted_transformations.json', 'w') as fp:\n",
    "    json.dump(predicted_transformations, fp)"
   ]
  }
 ],
 "metadata": {
  "kernelspec": {
   "display_name": "Python 3 (ipykernel)",
   "language": "python",
   "name": "python3"
  },
  "language_info": {
   "codemirror_mode": {
    "name": "ipython",
    "version": 3
   },
   "file_extension": ".py",
   "mimetype": "text/x-python",
   "name": "python",
   "nbconvert_exporter": "python",
   "pygments_lexer": "ipython3",
   "version": "3.9.7"
  }
 },
 "nbformat": 4,
 "nbformat_minor": 5
}
